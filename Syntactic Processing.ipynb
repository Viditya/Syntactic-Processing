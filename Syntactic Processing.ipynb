{
 "cells": [
  {
   "cell_type": "markdown",
   "metadata": {},
   "source": [
    "## POS tagging using modified Viterbi"
   ]
  },
  {
   "cell_type": "markdown",
   "metadata": {},
   "source": [
    "### 1. Data Preparation"
   ]
  },
  {
   "cell_type": "code",
   "execution_count": 1,
   "metadata": {},
   "outputs": [],
   "source": [
    "#Importing libraries\n",
    "import nltk, re, pprint\n",
    "import numpy as np\n",
    "import pandas as pd\n",
    "import requests\n",
    "import matplotlib.pyplot as plt\n",
    "import seaborn as sns\n",
    "import pprint, time\n",
    "import random\n",
    "from sklearn.model_selection import train_test_split\n",
    "from nltk.tokenize import word_tokenize\n",
    "from wordcloud import WordCloud\n",
    "from nltk.corpus import stopwords\n",
    "from collections import Counter\n",
    "import operator\n",
    "import warnings\n",
    "warnings.filterwarnings('ignore')"
   ]
  },
  {
   "cell_type": "code",
   "execution_count": 2,
   "metadata": {},
   "outputs": [],
   "source": [
    "# nltk.download('universal_tagset')"
   ]
  },
  {
   "cell_type": "code",
   "execution_count": 3,
   "metadata": {},
   "outputs": [],
   "source": [
    "# reading the Treebank with the 'universal' tagset.\n",
    "data = nltk.corpus.treebank.tagged_sents(tagset = 'universal')"
   ]
  },
  {
   "cell_type": "code",
   "execution_count": 4,
   "metadata": {
    "scrolled": true
   },
   "outputs": [
    {
     "name": "stdout",
     "output_type": "stream",
     "text": [
      "[[('Pierre', 'NOUN'), ('Vinken', 'NOUN'), (',', '.'), ('61', 'NUM'), ('years', 'NOUN'), ('old', 'ADJ'), (',', '.'), ('will', 'VERB'), ('join', 'VERB'), ('the', 'DET'), ('board', 'NOUN'), ('as', 'ADP'), ('a', 'DET'), ('nonexecutive', 'ADJ'), ('director', 'NOUN'), ('Nov.', 'NOUN'), ('29', 'NUM'), ('.', '.')], [('Mr.', 'NOUN'), ('Vinken', 'NOUN'), ('is', 'VERB'), ('chairman', 'NOUN'), ('of', 'ADP'), ('Elsevier', 'NOUN'), ('N.V.', 'NOUN'), (',', '.'), ('the', 'DET'), ('Dutch', 'NOUN'), ('publishing', 'VERB'), ('group', 'NOUN'), ('.', '.')], [('Rudolph', 'NOUN'), ('Agnew', 'NOUN'), (',', '.'), ('55', 'NUM'), ('years', 'NOUN'), ('old', 'ADJ'), ('and', 'CONJ'), ('former', 'ADJ'), ('chairman', 'NOUN'), ('of', 'ADP'), ('Consolidated', 'NOUN'), ('Gold', 'NOUN'), ('Fields', 'NOUN'), ('PLC', 'NOUN'), (',', '.'), ('was', 'VERB'), ('named', 'VERB'), ('*-1', 'X'), ('a', 'DET'), ('nonexecutive', 'ADJ'), ('director', 'NOUN'), ('of', 'ADP'), ('this', 'DET'), ('British', 'ADJ'), ('industrial', 'ADJ'), ('conglomerate', 'NOUN'), ('.', '.')], [('A', 'DET'), ('form', 'NOUN'), ('of', 'ADP'), ('asbestos', 'NOUN'), ('once', 'ADV'), ('used', 'VERB'), ('*', 'X'), ('*', 'X'), ('to', 'PRT'), ('make', 'VERB'), ('Kent', 'NOUN'), ('cigarette', 'NOUN'), ('filters', 'NOUN'), ('has', 'VERB'), ('caused', 'VERB'), ('a', 'DET'), ('high', 'ADJ'), ('percentage', 'NOUN'), ('of', 'ADP'), ('cancer', 'NOUN'), ('deaths', 'NOUN'), ('among', 'ADP'), ('a', 'DET'), ('group', 'NOUN'), ('of', 'ADP'), ('workers', 'NOUN'), ('exposed', 'VERB'), ('*', 'X'), ('to', 'PRT'), ('it', 'PRON'), ('more', 'ADV'), ('than', 'ADP'), ('30', 'NUM'), ('years', 'NOUN'), ('ago', 'ADP'), (',', '.'), ('researchers', 'NOUN'), ('reported', 'VERB'), ('0', 'X'), ('*T*-1', 'X'), ('.', '.')], [('The', 'DET'), ('asbestos', 'NOUN'), ('fiber', 'NOUN'), (',', '.'), ('crocidolite', 'NOUN'), (',', '.'), ('is', 'VERB'), ('unusually', 'ADV'), ('resilient', 'ADJ'), ('once', 'ADP'), ('it', 'PRON'), ('enters', 'VERB'), ('the', 'DET'), ('lungs', 'NOUN'), (',', '.'), ('with', 'ADP'), ('even', 'ADV'), ('brief', 'ADJ'), ('exposures', 'NOUN'), ('to', 'PRT'), ('it', 'PRON'), ('causing', 'VERB'), ('symptoms', 'NOUN'), ('that', 'DET'), ('*T*-1', 'X'), ('show', 'VERB'), ('up', 'PRT'), ('decades', 'NOUN'), ('later', 'ADJ'), (',', '.'), ('researchers', 'NOUN'), ('said', 'VERB'), ('0', 'X'), ('*T*-2', 'X'), ('.', '.')]]\n"
     ]
    }
   ],
   "source": [
    "# first few tagged sentences\n",
    "print(data[:5])"
   ]
  },
  {
   "cell_type": "markdown",
   "metadata": {},
   "source": [
    "#### Since we are asked to keep only 5% of validation data, we will act accordingly"
   ]
  },
  {
   "cell_type": "code",
   "execution_count": 5,
   "metadata": {
    "scrolled": true
   },
   "outputs": [
    {
     "name": "stdout",
     "output_type": "stream",
     "text": [
      "3718\n",
      "196\n",
      "[[('While', 'ADP'), ('the', 'DET'), ('minimum', 'ADJ'), ('wage', 'NOUN'), ('had', 'VERB'), ('traditionally', 'ADV'), ('been', 'VERB'), ('pegged', 'VERB'), ('*-164', 'X'), ('at', 'ADP'), ('half', 'DET'), ('the', 'DET'), ('average', 'ADJ'), ('U.S.', 'NOUN'), ('manufacturing', 'NOUN'), ('wage', 'NOUN'), (',', '.'), ('the', 'DET'), ('level', 'NOUN'), ('of', 'ADP'), ('$', '.'), ('4.25', 'NUM'), ('*U*', 'X'), ('an', 'DET'), ('hour', 'NOUN'), ('in', 'ADP'), ('1991', 'NUM'), ('will', 'VERB'), ('still', 'ADV'), ('be', 'VERB'), ('less', 'ADJ'), ('than', 'ADP'), ('35', 'NUM'), ('%', 'NOUN'), ('of', 'ADP'), ('average', 'ADJ'), ('factory', 'NOUN'), ('pay', 'NOUN'), (',', '.'), ('Mr.', 'NOUN'), ('Williams', 'NOUN'), ('said', 'VERB'), ('0', 'X'), ('*T*-1', 'X'), ('.', '.')], [('Still', 'ADV'), (',', '.'), ('many', 'ADJ'), ('economists', 'NOUN'), ('are', 'VERB'), (\"n't\", 'ADV'), ('predicting', 'VERB'), ('a', 'DET'), ('recession', 'NOUN'), ('anytime', 'ADV'), ('soon', 'ADV'), ('.', '.')], [('He', 'PRON'), ('earned', 'VERB'), ('his', 'PRON'), ('doctorate', 'NOUN'), ('in', 'ADP'), ('nuclear', 'ADJ'), ('physics', 'NOUN'), ('from', 'ADP'), ('the', 'DET'), ('Massachusetts', 'NOUN'), ('Institute', 'NOUN'), ('of', 'ADP'), ('Technology', 'NOUN'), ('.', '.')], [('Hours', 'NOUN'), ('after', 'ADP'), ('the', 'DET'), ('announcement', 'NOUN'), (',', '.'), ('representatives', 'NOUN'), ('of', 'ADP'), ('the', 'DET'), ('Orange', 'NOUN'), ('County', 'NOUN'), ('Register', 'NOUN'), ('were', 'VERB'), ('in', 'ADP'), ('a', 'DET'), ('bar', 'NOUN'), ('across', 'ADP'), ('the', 'DET'), ('street', 'NOUN'), ('*-1', 'X'), ('recruiting', 'VERB'), ('.', '.')], [('When', 'ADV'), ('the', 'DET'), ('company', 'NOUN'), ('asked', 'VERB'), ('members', 'NOUN'), ('in', 'ADP'), ('a', 'DET'), ('mailing', 'NOUN'), ('which', 'DET'), ('cars', 'NOUN'), ('they', 'PRON'), ('would', 'VERB'), ('like', 'VERB'), ('*-3', 'X'), ('to', 'PRT'), ('get', 'VERB'), ('information', 'NOUN'), ('about', 'ADP'), ('*T*-2', 'X'), ('for', 'ADP'), ('possible', 'ADJ'), ('future', 'ADJ'), ('purchases', 'NOUN'), ('*T*-1', 'X'), (',', '.'), ('Buick', 'NOUN'), ('came', 'VERB'), ('in', 'PRT'), ('fourth', 'ADJ'), ('among', 'ADP'), ('U.S.', 'NOUN'), ('cars', 'NOUN'), ('and', 'CONJ'), ('in', 'ADP'), ('the', 'DET'), ('top', 'NOUN'), ('10', 'NUM'), ('of', 'ADP'), ('all', 'DET'), ('cars', 'NOUN'), (',', '.'), ('the', 'DET'), ('spokeswoman', 'NOUN'), ('says', 'VERB'), ('0', 'X'), ('*T*-4', 'X'), ('.', '.')]]\n"
     ]
    }
   ],
   "source": [
    "# Splitting into train and test\n",
    "random.seed(1234)\n",
    "train_set, test_set = train_test_split(data,test_size=0.05)\n",
    "\n",
    "print(len(train_set))\n",
    "print(len(test_set))\n",
    "print(train_set[:5])"
   ]
  },
  {
   "cell_type": "code",
   "execution_count": 6,
   "metadata": {},
   "outputs": [
    {
     "data": {
      "text/plain": [
       "95614"
      ]
     },
     "execution_count": 6,
     "metadata": {},
     "output_type": "execute_result"
    }
   ],
   "source": [
    "# Getting list of tagged words\n",
    "train_tagged_words = [tup for sent in train_set for tup in sent]\n",
    "len(train_tagged_words)"
   ]
  },
  {
   "cell_type": "markdown",
   "metadata": {},
   "source": [
    "#### Let's take a look at these"
   ]
  },
  {
   "cell_type": "code",
   "execution_count": 7,
   "metadata": {
    "scrolled": true
   },
   "outputs": [
    {
     "data": {
      "text/plain": [
       "[('While', 'ADP'),\n",
       " ('the', 'DET'),\n",
       " ('minimum', 'ADJ'),\n",
       " ('wage', 'NOUN'),\n",
       " ('had', 'VERB'),\n",
       " ('traditionally', 'ADV'),\n",
       " ('been', 'VERB'),\n",
       " ('pegged', 'VERB'),\n",
       " ('*-164', 'X'),\n",
       " ('at', 'ADP'),\n",
       " ('half', 'DET'),\n",
       " ('the', 'DET'),\n",
       " ('average', 'ADJ'),\n",
       " ('U.S.', 'NOUN'),\n",
       " ('manufacturing', 'NOUN'),\n",
       " ('wage', 'NOUN'),\n",
       " (',', '.'),\n",
       " ('the', 'DET'),\n",
       " ('level', 'NOUN'),\n",
       " ('of', 'ADP'),\n",
       " ('$', '.'),\n",
       " ('4.25', 'NUM'),\n",
       " ('*U*', 'X'),\n",
       " ('an', 'DET'),\n",
       " ('hour', 'NOUN'),\n",
       " ('in', 'ADP'),\n",
       " ('1991', 'NUM'),\n",
       " ('will', 'VERB'),\n",
       " ('still', 'ADV'),\n",
       " ('be', 'VERB'),\n",
       " ('less', 'ADJ'),\n",
       " ('than', 'ADP'),\n",
       " ('35', 'NUM'),\n",
       " ('%', 'NOUN'),\n",
       " ('of', 'ADP'),\n",
       " ('average', 'ADJ'),\n",
       " ('factory', 'NOUN'),\n",
       " ('pay', 'NOUN'),\n",
       " (',', '.'),\n",
       " ('Mr.', 'NOUN'),\n",
       " ('Williams', 'NOUN'),\n",
       " ('said', 'VERB'),\n",
       " ('0', 'X'),\n",
       " ('*T*-1', 'X'),\n",
       " ('.', '.'),\n",
       " ('Still', 'ADV'),\n",
       " (',', '.'),\n",
       " ('many', 'ADJ'),\n",
       " ('economists', 'NOUN'),\n",
       " ('are', 'VERB'),\n",
       " (\"n't\", 'ADV'),\n",
       " ('predicting', 'VERB'),\n",
       " ('a', 'DET'),\n",
       " ('recession', 'NOUN'),\n",
       " ('anytime', 'ADV'),\n",
       " ('soon', 'ADV'),\n",
       " ('.', '.'),\n",
       " ('He', 'PRON'),\n",
       " ('earned', 'VERB'),\n",
       " ('his', 'PRON'),\n",
       " ('doctorate', 'NOUN'),\n",
       " ('in', 'ADP'),\n",
       " ('nuclear', 'ADJ'),\n",
       " ('physics', 'NOUN'),\n",
       " ('from', 'ADP'),\n",
       " ('the', 'DET'),\n",
       " ('Massachusetts', 'NOUN'),\n",
       " ('Institute', 'NOUN'),\n",
       " ('of', 'ADP'),\n",
       " ('Technology', 'NOUN'),\n",
       " ('.', '.'),\n",
       " ('Hours', 'NOUN'),\n",
       " ('after', 'ADP'),\n",
       " ('the', 'DET'),\n",
       " ('announcement', 'NOUN'),\n",
       " (',', '.'),\n",
       " ('representatives', 'NOUN'),\n",
       " ('of', 'ADP'),\n",
       " ('the', 'DET'),\n",
       " ('Orange', 'NOUN'),\n",
       " ('County', 'NOUN'),\n",
       " ('Register', 'NOUN'),\n",
       " ('were', 'VERB'),\n",
       " ('in', 'ADP'),\n",
       " ('a', 'DET'),\n",
       " ('bar', 'NOUN'),\n",
       " ('across', 'ADP'),\n",
       " ('the', 'DET'),\n",
       " ('street', 'NOUN'),\n",
       " ('*-1', 'X'),\n",
       " ('recruiting', 'VERB'),\n",
       " ('.', '.'),\n",
       " ('When', 'ADV'),\n",
       " ('the', 'DET'),\n",
       " ('company', 'NOUN'),\n",
       " ('asked', 'VERB'),\n",
       " ('members', 'NOUN'),\n",
       " ('in', 'ADP'),\n",
       " ('a', 'DET'),\n",
       " ('mailing', 'NOUN'),\n",
       " ('which', 'DET'),\n",
       " ('cars', 'NOUN'),\n",
       " ('they', 'PRON'),\n",
       " ('would', 'VERB'),\n",
       " ('like', 'VERB'),\n",
       " ('*-3', 'X'),\n",
       " ('to', 'PRT'),\n",
       " ('get', 'VERB'),\n",
       " ('information', 'NOUN'),\n",
       " ('about', 'ADP'),\n",
       " ('*T*-2', 'X'),\n",
       " ('for', 'ADP'),\n",
       " ('possible', 'ADJ'),\n",
       " ('future', 'ADJ'),\n",
       " ('purchases', 'NOUN'),\n",
       " ('*T*-1', 'X'),\n",
       " (',', '.'),\n",
       " ('Buick', 'NOUN'),\n",
       " ('came', 'VERB'),\n",
       " ('in', 'PRT'),\n",
       " ('fourth', 'ADJ'),\n",
       " ('among', 'ADP'),\n",
       " ('U.S.', 'NOUN'),\n",
       " ('cars', 'NOUN'),\n",
       " ('and', 'CONJ'),\n",
       " ('in', 'ADP'),\n",
       " ('the', 'DET'),\n",
       " ('top', 'NOUN'),\n",
       " ('10', 'NUM'),\n",
       " ('of', 'ADP'),\n",
       " ('all', 'DET'),\n",
       " ('cars', 'NOUN'),\n",
       " (',', '.'),\n",
       " ('the', 'DET'),\n",
       " ('spokeswoman', 'NOUN'),\n",
       " ('says', 'VERB'),\n",
       " ('0', 'X'),\n",
       " ('*T*-4', 'X'),\n",
       " ('.', '.'),\n",
       " ('They', 'PRON'),\n",
       " ('did', 'VERB'),\n",
       " (\"n't\", 'ADV'),\n",
       " ('have', 'VERB'),\n",
       " ('much', 'ADJ'),\n",
       " ('luck', 'NOUN'),\n",
       " ('during', 'ADP'),\n",
       " ('the', 'DET'),\n",
       " ('Reagan', 'NOUN'),\n",
       " ('administration', 'NOUN'),\n",
       " ('.', '.'),\n",
       " ('But', 'CONJ'),\n",
       " ('the', 'DET'),\n",
       " ('growing', 'VERB'),\n",
       " ('controversy', 'NOUN'),\n",
       " ('comes', 'VERB'),\n",
       " ('as', 'ADP'),\n",
       " ('many', 'ADJ'),\n",
       " ('practices', 'NOUN'),\n",
       " ('historically', 'ADV'),\n",
       " ('accepted', 'VERB'),\n",
       " ('*', 'X'),\n",
       " ('as', 'ADP'),\n",
       " ('normal', 'ADJ'),\n",
       " ('here', 'ADV'),\n",
       " ('--', '.'),\n",
       " ('such', 'ADJ'),\n",
       " ('as', 'ADP'),\n",
       " ('politicians', 'NOUN'),\n",
       " ('accepting', 'VERB'),\n",
       " ('substantial', 'ADJ'),\n",
       " ('gifts', 'NOUN'),\n",
       " ('from', 'ADP'),\n",
       " ('businessmen', 'NOUN'),\n",
       " ('or', 'CONJ'),\n",
       " ('having', 'VERB'),\n",
       " ('extramarital', 'ADJ'),\n",
       " ('affairs', 'NOUN'),\n",
       " ('--', '.'),\n",
       " ('are', 'ADP'),\n",
       " ('coming', 'VERB'),\n",
       " ('under', 'ADP'),\n",
       " ('close', 'ADJ'),\n",
       " ('ethical', 'ADJ'),\n",
       " ('scrutiny', 'NOUN'),\n",
       " ('.', '.'),\n",
       " ('Earnings', 'NOUN'),\n",
       " ('were', 'VERB'),\n",
       " ('hurt', 'VERB'),\n",
       " ('*-1', 'X'),\n",
       " ('by', 'ADP'),\n",
       " ('disposal', 'NOUN'),\n",
       " ('of', 'ADP'),\n",
       " ('operations', 'NOUN'),\n",
       " ('in', 'ADP'),\n",
       " ('its', 'PRON'),\n",
       " ('restructuring', 'NOUN'),\n",
       " (',', '.'),\n",
       " ('Reed', 'NOUN'),\n",
       " ('said', 'VERB'),\n",
       " ('0', 'X'),\n",
       " ('*T*-2', 'X'),\n",
       " ('.', '.'),\n",
       " ('For', 'ADP'),\n",
       " ('example', 'NOUN'),\n",
       " (',', '.'),\n",
       " ('the', 'DET'),\n",
       " ('Herald', 'NOUN'),\n",
       " ('consistently', 'ADV'),\n",
       " ('beat', 'VERB'),\n",
       " ('its', 'PRON'),\n",
       " ('much-larger', 'ADJ'),\n",
       " ('rival', 'NOUN'),\n",
       " ('on', 'ADP'),\n",
       " ('disclosures', 'NOUN'),\n",
       " ('about', 'ADP'),\n",
       " ('Los', 'NOUN'),\n",
       " ('Angeles', 'NOUN'),\n",
       " ('Mayor', 'NOUN'),\n",
       " ('Tom', 'NOUN'),\n",
       " ('Bradley', 'NOUN'),\n",
       " (\"'s\", 'PRT'),\n",
       " ('financial', 'ADJ'),\n",
       " ('dealings', 'NOUN'),\n",
       " ('.', '.'),\n",
       " ('David', 'NOUN'),\n",
       " ('Berson', 'NOUN'),\n",
       " (',', '.'),\n",
       " ('economist', 'NOUN'),\n",
       " ('for', 'ADP'),\n",
       " ('the', 'DET'),\n",
       " ('Mortgage', 'NOUN'),\n",
       " ('Bankers', 'NOUN'),\n",
       " ('Association', 'NOUN'),\n",
       " (',', '.'),\n",
       " ('predicted', 'VERB'),\n",
       " ('0', 'X'),\n",
       " ('the', 'DET'),\n",
       " ('drop', 'NOUN'),\n",
       " ('in', 'ADP'),\n",
       " ('interest', 'NOUN'),\n",
       " ('rates', 'NOUN'),\n",
       " ('eventually', 'ADV'),\n",
       " ('will', 'VERB'),\n",
       " ('boost', 'VERB'),\n",
       " ('spending', 'NOUN'),\n",
       " ('on', 'ADP'),\n",
       " ('single-family', 'ADJ'),\n",
       " ('homes', 'NOUN'),\n",
       " (',', '.'),\n",
       " ('but', 'CONJ'),\n",
       " ('probably', 'ADV'),\n",
       " ('not', 'ADV'),\n",
       " ('until', 'ADP'),\n",
       " ('early', 'ADJ'),\n",
       " ('next', 'ADJ'),\n",
       " ('year', 'NOUN'),\n",
       " ('.', '.'),\n",
       " ('GMAC', 'NOUN'),\n",
       " ('screened', 'VERB'),\n",
       " ('the', 'DET'),\n",
       " ('card-member', 'NOUN'),\n",
       " ('list', 'NOUN'),\n",
       " ('for', 'ADP'),\n",
       " ('holders', 'NOUN'),\n",
       " ('more', 'ADJ'),\n",
       " ('than', 'ADP'),\n",
       " ('30', 'NUM'),\n",
       " ('years', 'NOUN'),\n",
       " ('old', 'ADJ'),\n",
       " ('with', 'ADP'),\n",
       " ('household', 'NOUN'),\n",
       " ('incomes', 'NOUN'),\n",
       " ('over', 'ADP'),\n",
       " ('$', '.'),\n",
       " ('45,000', 'NUM'),\n",
       " ('*U*', 'X'),\n",
       " ('who', 'PRON'),\n",
       " ('*T*-54', 'X'),\n",
       " ('had', 'VERB'),\n",
       " (\"n't\", 'ADV'),\n",
       " ('``', '.'),\n",
       " ('missed', 'VERB'),\n",
       " ('any', 'DET'),\n",
       " ('payments', 'NOUN'),\n",
       " (',', '.'),\n",
       " (\"''\", '.'),\n",
       " ('the', 'DET'),\n",
       " ('Buick', 'NOUN'),\n",
       " ('spokeswoman', 'NOUN'),\n",
       " ('says', 'VERB'),\n",
       " ('0', 'X'),\n",
       " ('*T*-1', 'X'),\n",
       " ('.', '.'),\n",
       " ('Among', 'ADP'),\n",
       " ('them', 'PRON'),\n",
       " ('are', 'VERB'),\n",
       " ('*T*-1', 'X'),\n",
       " ('differences', 'NOUN'),\n",
       " ('in', 'ADP'),\n",
       " ('savings', 'NOUN'),\n",
       " ('and', 'CONJ'),\n",
       " ('investment', 'NOUN'),\n",
       " ('rates', 'NOUN'),\n",
       " (',', '.'),\n",
       " ('corporate', 'ADJ'),\n",
       " ('structures', 'NOUN'),\n",
       " ('and', 'CONJ'),\n",
       " ('management', 'NOUN'),\n",
       " (',', '.'),\n",
       " ('and', 'CONJ'),\n",
       " ('government', 'NOUN'),\n",
       " ('spending', 'NOUN'),\n",
       " ('.', '.'),\n",
       " ('William', 'NOUN'),\n",
       " ('R.', 'NOUN'),\n",
       " ('Breakey', 'NOUN'),\n",
       " ('M.D.', 'NOUN'),\n",
       " ('Pamela', 'NOUN'),\n",
       " ('J.', 'NOUN'),\n",
       " ('Fischer', 'NOUN'),\n",
       " ('M.D.', 'NOUN'),\n",
       " ('Department', 'NOUN'),\n",
       " ('of', 'ADP'),\n",
       " ('Psychiatry', 'NOUN'),\n",
       " ('Johns', 'NOUN'),\n",
       " ('Hopkins', 'NOUN'),\n",
       " ('University', 'NOUN'),\n",
       " ('School', 'NOUN'),\n",
       " ('of', 'ADP'),\n",
       " ('Medicine', 'NOUN'),\n",
       " ('Baltimore', 'NOUN'),\n",
       " ('Net', 'ADJ'),\n",
       " ('income', 'NOUN'),\n",
       " ('more', 'ADV'),\n",
       " ('than', 'ADP'),\n",
       " ('tripled', 'VERB'),\n",
       " ('to', 'PRT'),\n",
       " ('4.898', 'NUM'),\n",
       " ('billion', 'NUM'),\n",
       " ('yen', 'NOUN'),\n",
       " ('from', 'ADP'),\n",
       " ('1.457', 'NUM'),\n",
       " ('billion', 'NUM'),\n",
       " ('yen', 'NOUN'),\n",
       " ('a', 'DET'),\n",
       " ('year', 'NOUN'),\n",
       " ('earlier', 'ADJ'),\n",
       " ('.', '.'),\n",
       " ('History', 'NOUN'),\n",
       " (',', '.'),\n",
       " ('after', 'ADP'),\n",
       " ('all', 'DET'),\n",
       " (',', '.'),\n",
       " ('is', 'VERB'),\n",
       " ('not', 'ADV'),\n",
       " ('on', 'ADP'),\n",
       " ('his', 'PRON'),\n",
       " ('side', 'NOUN'),\n",
       " ('.', '.'),\n",
       " ('CERTIFICATES', 'NOUN'),\n",
       " ('OF', 'ADP'),\n",
       " ('DEPOSIT', 'NOUN'),\n",
       " (':', '.'),\n",
       " ('8.07', 'NUM'),\n",
       " ('%', 'NOUN'),\n",
       " ('one', 'NUM'),\n",
       " ('month', 'NOUN'),\n",
       " (';', '.'),\n",
       " ('8.06', 'NUM'),\n",
       " ('%', 'NOUN'),\n",
       " ('two', 'NUM'),\n",
       " ('months', 'NOUN'),\n",
       " (';', '.'),\n",
       " ('8.04', 'NUM'),\n",
       " ('%', 'NOUN'),\n",
       " ('three', 'NUM'),\n",
       " ('months', 'NOUN'),\n",
       " (';', '.'),\n",
       " ('7.95', 'NUM'),\n",
       " ('%', 'NOUN'),\n",
       " ('six', 'NUM'),\n",
       " ('months', 'NOUN'),\n",
       " (';', '.'),\n",
       " ('7.88', 'NUM'),\n",
       " ('%', 'NOUN'),\n",
       " ('one', 'NUM'),\n",
       " ('year', 'NOUN'),\n",
       " ('.', '.'),\n",
       " ('Like', 'ADP'),\n",
       " ('virtually', 'ADV'),\n",
       " ('everything', 'NOUN'),\n",
       " ('on', 'ADP'),\n",
       " ('Wall', 'NOUN'),\n",
       " ('Street', 'NOUN'),\n",
       " (',', '.'),\n",
       " ('the', 'DET'),\n",
       " ('program-trading', 'ADJ'),\n",
       " ('battle', 'NOUN'),\n",
       " ('is', 'VERB'),\n",
       " ('over', 'ADP'),\n",
       " ('money', 'NOUN'),\n",
       " (',', '.'),\n",
       " ('and', 'CONJ'),\n",
       " ('the', 'DET'),\n",
       " ('traditionalists', 'NOUN'),\n",
       " ('have', 'VERB'),\n",
       " ('been', 'VERB'),\n",
       " ('losing', 'VERB'),\n",
       " ('out', 'PRT'),\n",
       " ('on', 'ADP'),\n",
       " ('bundles', 'NOUN'),\n",
       " ('of', 'ADP'),\n",
       " ('it', 'PRON'),\n",
       " ('to', 'PRT'),\n",
       " ('the', 'DET'),\n",
       " ('New', 'NOUN'),\n",
       " ('Guard', 'NOUN'),\n",
       " ('in', 'ADP'),\n",
       " ('recent', 'ADJ'),\n",
       " ('years', 'NOUN'),\n",
       " ('.', '.'),\n",
       " ('They', 'PRON'),\n",
       " ('succeed', 'VERB'),\n",
       " ('Daniel', 'NOUN'),\n",
       " ('M.', 'NOUN'),\n",
       " ('Rexinger', 'NOUN'),\n",
       " (',', '.'),\n",
       " ('retired', 'VERB'),\n",
       " ('Circuit', 'NOUN'),\n",
       " ('City', 'NOUN'),\n",
       " ('executive', 'ADJ'),\n",
       " ('vice', 'NOUN'),\n",
       " ('president', 'NOUN'),\n",
       " (',', '.'),\n",
       " ('and', 'CONJ'),\n",
       " ('Robert', 'NOUN'),\n",
       " ('R.', 'NOUN'),\n",
       " ('Glauber', 'NOUN'),\n",
       " (',', '.'),\n",
       " ('U.S.', 'NOUN'),\n",
       " ('Treasury', 'NOUN'),\n",
       " ('undersecretary', 'NOUN'),\n",
       " (',', '.'),\n",
       " ('on', 'ADP'),\n",
       " ('the', 'DET'),\n",
       " ('12-member', 'ADJ'),\n",
       " ('board', 'NOUN'),\n",
       " ('.', '.'),\n",
       " ('They', 'PRON'),\n",
       " ('will', 'VERB'),\n",
       " ('mature', 'VERB'),\n",
       " ('Dec.', 'NOUN'),\n",
       " ('21', 'NUM'),\n",
       " ('.', '.'),\n",
       " ('Bob', 'NOUN'),\n",
       " ('has', 'VERB'),\n",
       " ('an', 'DET'),\n",
       " ('agenda', 'NOUN'),\n",
       " ('and', 'CONJ'),\n",
       " ('this', 'DET'),\n",
       " ('seemed', 'VERB'),\n",
       " ('like', 'ADP'),\n",
       " ('the', 'DET'),\n",
       " ('natural', 'ADJ'),\n",
       " ('time', 'NOUN'),\n",
       " ('.', '.'),\n",
       " (\"''\", '.'),\n",
       " ('Until', 'ADP'),\n",
       " ('now', 'ADV'),\n",
       " (',', '.'),\n",
       " ('however', 'ADV'),\n",
       " (',', '.'),\n",
       " ('buyers', 'NOUN'),\n",
       " ('who', 'PRON'),\n",
       " ('*T*-53', 'X'),\n",
       " ('wanted', 'VERB'),\n",
       " ('*-1', 'X'),\n",
       " ('to', 'PRT'),\n",
       " ('finance', 'VERB'),\n",
       " ('part', 'NOUN'),\n",
       " ('of', 'ADP'),\n",
       " ('a', 'DET'),\n",
       " ('car', 'NOUN'),\n",
       " ('purchase', 'NOUN'),\n",
       " ('through', 'ADP'),\n",
       " ('General', 'NOUN'),\n",
       " ('Motors', 'NOUN'),\n",
       " ('Acceptance', 'NOUN'),\n",
       " ('Corp.', 'NOUN'),\n",
       " ('could', 'VERB'),\n",
       " (\"n't\", 'ADV'),\n",
       " ('put', 'VERB'),\n",
       " ('their', 'PRON'),\n",
       " ('down', 'NOUN'),\n",
       " ('payment', 'NOUN'),\n",
       " ('on', 'ADP'),\n",
       " ('a', 'DET'),\n",
       " ('charge', 'NOUN'),\n",
       " ('card', 'NOUN'),\n",
       " ('because', 'ADP'),\n",
       " ('of', 'ADP'),\n",
       " ('possible', 'ADJ'),\n",
       " ('conflicts', 'NOUN'),\n",
       " ('with', 'ADP'),\n",
       " ('truth-in-lending', 'NOUN'),\n",
       " ('and', 'CONJ'),\n",
       " ('state', 'NOUN'),\n",
       " ('disclosure', 'NOUN'),\n",
       " ('laws', 'NOUN'),\n",
       " ('over', 'ADP'),\n",
       " ('finance', 'NOUN'),\n",
       " ('rates', 'NOUN'),\n",
       " (',', '.'),\n",
       " ('says', 'VERB'),\n",
       " ('*T*-2', 'X'),\n",
       " ('a', 'DET'),\n",
       " ('spokesman', 'NOUN'),\n",
       " ('for', 'ADP'),\n",
       " ('the', 'DET'),\n",
       " ('GM', 'NOUN'),\n",
       " ('finance', 'NOUN'),\n",
       " ('arm', 'NOUN'),\n",
       " ('.', '.'),\n",
       " ('Markets', 'NOUN'),\n",
       " ('--', '.'),\n",
       " ('South', 'NOUN'),\n",
       " ('Carolina', 'NOUN'),\n",
       " (\"'s\", 'PRT'),\n",
       " ('reforms', 'NOUN'),\n",
       " ('were', 'VERB'),\n",
       " ('designed', 'VERB'),\n",
       " ('*-1', 'X'),\n",
       " ('for', 'ADP'),\n",
       " ('schools', 'NOUN'),\n",
       " ('like', 'ADP'),\n",
       " ('Greenville', 'NOUN'),\n",
       " ('High', 'NOUN'),\n",
       " ('School', 'NOUN'),\n",
       " ('.', '.'),\n",
       " ('They', 'PRON'),\n",
       " ('fell', 'VERB'),\n",
       " ('into', 'ADP'),\n",
       " ('oblivion', 'NOUN'),\n",
       " ('after', 'ADP'),\n",
       " ('the', 'DET'),\n",
       " ('1929', 'NUM'),\n",
       " ('crash', 'NOUN'),\n",
       " ('.', '.'),\n",
       " ('Compromises', 'NOUN'),\n",
       " ('are', 'VERB'),\n",
       " ('possible', 'ADJ'),\n",
       " ('.', '.'),\n",
       " ('An', 'DET'),\n",
       " ('entirely', 'ADV'),\n",
       " ('new', 'ADJ'),\n",
       " ('band', 'NOUN'),\n",
       " ('*ICH*-2', 'X'),\n",
       " ('rings', 'VERB'),\n",
       " ('today', 'NOUN'),\n",
       " ('at', 'ADP'),\n",
       " ('Great', 'ADJ'),\n",
       " ('Torrington', 'NOUN'),\n",
       " (',', '.'),\n",
       " ('several', 'ADJ'),\n",
       " ('of', 'ADP'),\n",
       " ('whom', 'PRON'),\n",
       " ('*T*-1', 'X'),\n",
       " ('are', 'VERB'),\n",
       " ('members', 'NOUN'),\n",
       " ('of', 'ADP'),\n",
       " ('the', 'DET'),\n",
       " ('congregation', 'NOUN'),\n",
       " ('.', '.'),\n",
       " ('The', 'DET'),\n",
       " ('Senate', 'NOUN'),\n",
       " ('Finance', 'NOUN'),\n",
       " ('Committee', 'NOUN'),\n",
       " (',', '.'),\n",
       " ('chaired', 'VERB'),\n",
       " ('*', 'X'),\n",
       " ('by', 'ADP'),\n",
       " ('a', 'DET'),\n",
       " ('fellow', 'ADJ'),\n",
       " ('Texan', 'NOUN'),\n",
       " (',', '.'),\n",
       " ('Democratic', 'ADJ'),\n",
       " ('Sen.', 'NOUN'),\n",
       " ('Lloyd', 'NOUN'),\n",
       " ('Bentsen', 'NOUN'),\n",
       " (',', '.'),\n",
       " ('last', 'ADJ'),\n",
       " ('month', 'NOUN'),\n",
       " ('urged', 'VERB'),\n",
       " ('U.S.', 'NOUN'),\n",
       " ('Trade', 'NOUN'),\n",
       " ('Representative', 'NOUN'),\n",
       " ('Carla', 'NOUN'),\n",
       " ('Hills', 'NOUN'),\n",
       " ('to', 'PRT'),\n",
       " ('use', 'VERB'),\n",
       " ('Mr.', 'NOUN'),\n",
       " ('Pickens', 'NOUN'),\n",
       " (\"'s\", 'PRT'),\n",
       " ('experience', 'NOUN'),\n",
       " ('in', 'ADP'),\n",
       " ('talks', 'NOUN'),\n",
       " ('with', 'ADP'),\n",
       " ('Tokyo', 'NOUN'),\n",
       " ('``', '.'),\n",
       " ('*-1', 'X'),\n",
       " ('to', 'PRT'),\n",
       " ('highlight', 'VERB'),\n",
       " ('this', 'DET'),\n",
       " ('problem', 'NOUN'),\n",
       " ('facing', 'VERB'),\n",
       " ('Americans', 'NOUN'),\n",
       " ('who', 'PRON'),\n",
       " ('*T*-185', 'X'),\n",
       " ('seek', 'VERB'),\n",
       " ('access', 'NOUN'),\n",
       " ('to', 'PRT'),\n",
       " ('the', 'DET'),\n",
       " ('Japanese', 'ADJ'),\n",
       " ('capital', 'NOUN'),\n",
       " ('markets', 'NOUN'),\n",
       " ('.', '.'),\n",
       " (\"''\", '.'),\n",
       " ('Relations', 'NOUN'),\n",
       " ('between', 'ADP'),\n",
       " ('China', 'NOUN'),\n",
       " ('and', 'CONJ'),\n",
       " ('the', 'DET'),\n",
       " ('U.S.', 'NOUN'),\n",
       " ('have', 'VERB'),\n",
       " ('been', 'VERB'),\n",
       " ('tense', 'ADJ'),\n",
       " ('since', 'ADP'),\n",
       " ('June', 'NOUN'),\n",
       " ('7', 'NUM'),\n",
       " (',', '.'),\n",
       " ('when', 'ADV'),\n",
       " ('Chinese', 'ADJ'),\n",
       " ('dissident', 'NOUN'),\n",
       " ('Fang', 'NOUN'),\n",
       " ('Lizhi', 'NOUN'),\n",
       " ('and', 'CONJ'),\n",
       " ('his', 'PRON'),\n",
       " ('wife', 'NOUN'),\n",
       " (',', '.'),\n",
       " ('Li', 'NOUN'),\n",
       " ('Shuxian', 'NOUN'),\n",
       " (',', '.'),\n",
       " ('took', 'VERB'),\n",
       " ('refuge', 'NOUN'),\n",
       " ('in', 'ADP'),\n",
       " ('the', 'DET'),\n",
       " ('U.S.', 'NOUN'),\n",
       " ('Embassy', 'NOUN'),\n",
       " ('in', 'ADP'),\n",
       " ('Beijing', 'NOUN'),\n",
       " ('*T*-1', 'X'),\n",
       " ('.', '.'),\n",
       " ('There', 'DET'),\n",
       " ('are', 'VERB'),\n",
       " ('no', 'DET'),\n",
       " ('signs', 'NOUN'),\n",
       " (',', '.'),\n",
       " ('however', 'ADV'),\n",
       " (',', '.'),\n",
       " ('of', 'ADP'),\n",
       " ('China', 'NOUN'),\n",
       " (\"'s\", 'PRT'),\n",
       " ('yielding', 'NOUN'),\n",
       " ('on', 'ADP'),\n",
       " ('key', 'ADJ'),\n",
       " ('issues', 'NOUN'),\n",
       " ('.', '.'),\n",
       " ('This', 'DET'),\n",
       " ('is', 'VERB'),\n",
       " ('not', 'ADV'),\n",
       " ('a', 'DET'),\n",
       " ('trivial', 'ADJ'),\n",
       " ('issue', 'NOUN'),\n",
       " ('.', '.'),\n",
       " ('The', 'DET'),\n",
       " ('March', 'NOUN'),\n",
       " ('and', 'CONJ'),\n",
       " ('May', 'NOUN'),\n",
       " ('contracts', 'NOUN'),\n",
       " ('rose', 'VERB'),\n",
       " ('to', 'PRT'),\n",
       " ('fresh', 'ADJ'),\n",
       " ('life-of-contract', 'ADJ'),\n",
       " ('highs', 'NOUN'),\n",
       " ('of', 'ADP'),\n",
       " ('14.54', 'NUM'),\n",
       " ('cents', 'NOUN'),\n",
       " ('and', 'CONJ'),\n",
       " ('14.28', 'NUM'),\n",
       " ('cents', 'NOUN'),\n",
       " ('at', 'ADP'),\n",
       " ('their', 'PRON'),\n",
       " ('best', 'ADJ'),\n",
       " ('levels', 'NOUN'),\n",
       " ('of', 'ADP'),\n",
       " ('the', 'DET'),\n",
       " ('day', 'NOUN'),\n",
       " ('.', '.'),\n",
       " ('He', 'PRON'),\n",
       " ('says', 'VERB'),\n",
       " ('0', 'X'),\n",
       " ('the', 'DET'),\n",
       " ('10', 'NUM'),\n",
       " ('citizen-sparked', 'ADJ'),\n",
       " ('issues', 'NOUN'),\n",
       " ('on', 'ADP'),\n",
       " ('state', 'NOUN'),\n",
       " ('ballots', 'NOUN'),\n",
       " ('this', 'DET'),\n",
       " ('fall', 'NOUN'),\n",
       " ('represent', 'VERB'),\n",
       " ('the', 'DET'),\n",
       " ('most', 'ADJ'),\n",
       " ('in', 'ADP'),\n",
       " ('any', 'DET'),\n",
       " ('odd-year', 'ADJ'),\n",
       " ('this', 'DET'),\n",
       " ('decade', 'NOUN'),\n",
       " ('.', '.'),\n",
       " ('The', 'DET'),\n",
       " ('company', 'NOUN'),\n",
       " ('earlier', 'ADV'),\n",
       " ('this', 'DET'),\n",
       " ('year', 'NOUN'),\n",
       " ('adopted', 'VERB'),\n",
       " ('a', 'DET'),\n",
       " ('shareholder-rights', 'ADJ'),\n",
       " ('plan', 'NOUN'),\n",
       " ('*-1', 'X'),\n",
       " ('to', 'PRT'),\n",
       " ('ward', 'VERB'),\n",
       " ('off', 'PRT'),\n",
       " ('unwanted', 'ADJ'),\n",
       " ('suitors', 'NOUN'),\n",
       " ('.', '.'),\n",
       " ('Mrs.', 'NOUN'),\n",
       " ('Ward', 'NOUN'),\n",
       " (',', '.'),\n",
       " ('for', 'ADP'),\n",
       " ('one', 'NUM'),\n",
       " (',', '.'),\n",
       " ('was', 'VERB'),\n",
       " ('relieved', 'ADJ'),\n",
       " ('.', '.'),\n",
       " ('``', '.'),\n",
       " ('Once', 'ADP'),\n",
       " ('we', 'PRON'),\n",
       " ('do', 'VERB'),\n",
       " (',', '.'),\n",
       " ('they', 'PRON'),\n",
       " ('will', 'VERB'),\n",
       " ('receive', 'VERB'),\n",
       " ('very', 'ADV'),\n",
       " ('serious', 'ADJ'),\n",
       " ('evaluation', 'NOUN'),\n",
       " (',', '.'),\n",
       " (\"''\", '.'),\n",
       " ('the', 'DET'),\n",
       " ('spokesman', 'NOUN'),\n",
       " ('said', 'VERB'),\n",
       " ('*T*-1', 'X'),\n",
       " ('.', '.'),\n",
       " ('``', '.'),\n",
       " ('You', 'PRON'),\n",
       " (\"'d\", 'VERB'),\n",
       " ('see', 'VERB'),\n",
       " ('her', 'PRON'),\n",
       " ('correcting', 'VERB'),\n",
       " ('homework', 'NOUN'),\n",
       " ('in', 'ADP'),\n",
       " ('the', 'DET'),\n",
       " ('stands', 'NOUN'),\n",
       " ('at', 'ADP'),\n",
       " ('a', 'DET'),\n",
       " ('football', 'NOUN'),\n",
       " ('game', 'NOUN'),\n",
       " ('.', '.'),\n",
       " (\"''\", '.'),\n",
       " ('You', 'PRON'),\n",
       " ('can', 'VERB'),\n",
       " ('do', 'VERB'),\n",
       " ('all', 'DET'),\n",
       " ('this', 'DET'),\n",
       " ('even', 'ADV'),\n",
       " ('if', 'ADP'),\n",
       " ('you', 'PRON'),\n",
       " (\"'re\", 'VERB'),\n",
       " ('not', 'ADV'),\n",
       " ('a', 'DET'),\n",
       " ('reporter', 'NOUN'),\n",
       " ('or', 'CONJ'),\n",
       " ('a', 'DET'),\n",
       " ('researcher', 'NOUN'),\n",
       " ('or', 'CONJ'),\n",
       " ('a', 'DET'),\n",
       " ('scholar', 'NOUN'),\n",
       " ('or', 'CONJ'),\n",
       " ('a', 'DET'),\n",
       " ('member', 'NOUN'),\n",
       " ('of', 'ADP'),\n",
       " ('Congress', 'NOUN'),\n",
       " ('.', '.'),\n",
       " ('Estimated', 'VERB'),\n",
       " ('and', 'CONJ'),\n",
       " ('actual', 'ADJ'),\n",
       " ('results', 'NOUN'),\n",
       " ('involving', 'VERB'),\n",
       " ('losses', 'NOUN'),\n",
       " ('are', 'VERB'),\n",
       " ('omitted', 'VERB'),\n",
       " ('*-1', 'X'),\n",
       " ('.', '.'),\n",
       " ('Bailey', 'NOUN'),\n",
       " ('Controls', 'NOUN'),\n",
       " (',', '.'),\n",
       " ('based', 'VERB'),\n",
       " ('*', 'X'),\n",
       " ('in', 'ADP'),\n",
       " ('Wickliffe', 'NOUN'),\n",
       " (',', '.'),\n",
       " ('Ohio', 'NOUN'),\n",
       " (',', '.'),\n",
       " ('makes', 'VERB'),\n",
       " ('computerized', 'ADJ'),\n",
       " ('industrial', 'ADJ'),\n",
       " ('controls', 'NOUN'),\n",
       " ('systems', 'NOUN'),\n",
       " ('.', '.'),\n",
       " ('Partly', 'ADV'),\n",
       " ('because', 'ADP'),\n",
       " ('of', 'ADP'),\n",
       " ('the', 'DET'),\n",
       " ('show', 'NOUN'),\n",
       " (',', '.'),\n",
       " ('Mr.', 'NOUN'),\n",
       " ('Watson', 'NOUN'),\n",
       " ('says', 'VERB'),\n",
       " ('0', 'X'),\n",
       " ('*T*-1', 'X'),\n",
       " (',', '.'),\n",
       " ('the', 'DET'),\n",
       " ('district', 'NOUN'),\n",
       " ('decided', 'VERB'),\n",
       " ('not', 'ADV'),\n",
       " ('*-2', 'X'),\n",
       " ('to', 'PRT'),\n",
       " ('recommend', 'VERB'),\n",
       " ('Mrs.', 'NOUN'),\n",
       " ('Yeargin', 'NOUN'),\n",
       " ('for', 'ADP'),\n",
       " ('a', 'DET'),\n",
       " ('first-time', 'ADJ'),\n",
       " ('offenders', 'NOUN'),\n",
       " ('program', 'NOUN'),\n",
       " ('that', 'DET'),\n",
       " ('*T*-99', 'X'),\n",
       " ('could', 'VERB'),\n",
       " ('have', 'VERB'),\n",
       " ('expunged', 'VERB'),\n",
       " ('the', 'DET'),\n",
       " ('charges', 'NOUN'),\n",
       " ('and', 'CONJ'),\n",
       " ('the', 'DET'),\n",
       " ('conviction', 'NOUN'),\n",
       " ('from', 'ADP'),\n",
       " ('her', 'PRON'),\n",
       " ('record', 'NOUN'),\n",
       " ('.', '.'),\n",
       " ('*-4', 'X'),\n",
       " ('A', 'DET'),\n",
       " ('high-balance', 'ADJ'),\n",
       " ('customer', 'NOUN'),\n",
       " ('that', 'ADP'),\n",
       " ('banks', 'NOUN'),\n",
       " ('pine', 'VERB'),\n",
       " ('for', 'PRT'),\n",
       " ('*T*-1', 'X'),\n",
       " (',', '.'),\n",
       " ('she', 'PRON'),\n",
       " ('did', 'VERB'),\n",
       " (\"n't\", 'ADV'),\n",
       " ('give', 'VERB'),\n",
       " ('much', 'ADJ'),\n",
       " ('thought', 'NOUN'),\n",
       " ('to', 'PRT'),\n",
       " ('the', 'DET'),\n",
       " ('rates', 'NOUN'),\n",
       " ('0', 'X'),\n",
       " ('she', 'PRON'),\n",
       " ('was', 'VERB'),\n",
       " ('receiving', 'VERB'),\n",
       " ('*T*-2', 'X'),\n",
       " (',', '.'),\n",
       " ('nor', 'CONJ'),\n",
       " ('to', 'PRT'),\n",
       " ('the', 'DET'),\n",
       " ('fees', 'NOUN'),\n",
       " ('0', 'X'),\n",
       " ('she', 'PRON'),\n",
       " ('was', 'VERB'),\n",
       " ('paying', 'VERB'),\n",
       " ('*T*-3', 'X'),\n",
       " ('.', '.'),\n",
       " ('A', 'DET'),\n",
       " ('second', 'ADJ'),\n",
       " ('citation', 'NOUN'),\n",
       " ('covering', 'VERB'),\n",
       " ('the', 'DET'),\n",
       " ('company', 'NOUN'),\n",
       " (\"'s\", 'PRT'),\n",
       " ('Clairton', 'NOUN'),\n",
       " (',', '.'),\n",
       " ('Pa.', 'NOUN'),\n",
       " (',', '.'),\n",
       " ('coke', 'NOUN'),\n",
       " ('works', 'NOUN'),\n",
       " ('involved', 'VERB'),\n",
       " ('more', 'ADJ'),\n",
       " ('than', 'ADP'),\n",
       " ('200', 'NUM'),\n",
       " ('alleged', 'VERB'),\n",
       " ('violations', 'NOUN'),\n",
       " ('of', 'ADP'),\n",
       " ('electrical-safety', 'ADJ'),\n",
       " ('and', 'CONJ'),\n",
       " ('other', 'ADJ'),\n",
       " ('requirements', 'NOUN'),\n",
       " (',', '.'),\n",
       " ('for', 'ADP'),\n",
       " ('which', 'DET'),\n",
       " ('OSHA', 'NOUN'),\n",
       " ('proposed', 'VERB'),\n",
       " ('$', '.'),\n",
       " ('1.2', 'NUM'),\n",
       " ('million', 'NUM'),\n",
       " ('*U*', 'X'),\n",
       " ('in', 'ADP'),\n",
       " ('fines', 'NOUN'),\n",
       " ('*T*-1', 'X'),\n",
       " ('.', '.'),\n",
       " ('The', 'DET'),\n",
       " ('fact', 'NOUN'),\n",
       " ('that', 'ADP'),\n",
       " ('New', 'NOUN'),\n",
       " ('England', 'NOUN'),\n",
       " ('proposed', 'VERB'),\n",
       " ('lower', 'ADJ'),\n",
       " ('rate', 'NOUN'),\n",
       " ('increases', 'NOUN'),\n",
       " ('--', '.'),\n",
       " ('4.8', 'NUM'),\n",
       " ('%', 'NOUN'),\n",
       " ('*U*', 'X'),\n",
       " ('over', 'ADP'),\n",
       " ('seven', 'NUM'),\n",
       " ('years', 'NOUN'),\n",
       " ('against', 'ADP'),\n",
       " ('around', 'ADP'),\n",
       " ('5.5', 'NUM'),\n",
       " ('%', 'NOUN'),\n",
       " ('boosts', 'NOUN'),\n",
       " ('proposed', 'VERB'),\n",
       " ('*', 'X'),\n",
       " ('by', 'ADP'),\n",
       " ('the', 'DET'),\n",
       " ('other', 'ADJ'),\n",
       " ('two', 'NUM'),\n",
       " ('outside', 'ADJ'),\n",
       " ('bidders', 'NOUN'),\n",
       " ('--', '.'),\n",
       " ('complicated', 'ADP'),\n",
       " ('negotiations', 'NOUN'),\n",
       " ('with', 'ADP'),\n",
       " ('state', 'NOUN'),\n",
       " ('officials', 'NOUN'),\n",
       " (',', '.'),\n",
       " ('Mr.', 'NOUN'),\n",
       " ('Ross', 'NOUN'),\n",
       " ('asserted', 'VERB'),\n",
       " ('0', 'X'),\n",
       " ('*T*-1', 'X'),\n",
       " ('.', '.'),\n",
       " ('The', 'DET'),\n",
       " ('Bush', 'NOUN'),\n",
       " ('administration', 'NOUN'),\n",
       " (\"'s\", 'PRT'),\n",
       " ('nomination', 'NOUN'),\n",
       " ('of', 'ADP'),\n",
       " ('Clarence', 'NOUN'),\n",
       " ('Thomas', 'NOUN'),\n",
       " ...]"
      ]
     },
     "execution_count": 7,
     "metadata": {},
     "output_type": "execute_result"
    }
   ],
   "source": [
    "train_tagged_words"
   ]
  },
  {
   "cell_type": "markdown",
   "metadata": {},
   "source": [
    "#### Creating tokens"
   ]
  },
  {
   "cell_type": "code",
   "execution_count": 8,
   "metadata": {},
   "outputs": [
    {
     "data": {
      "text/plain": [
       "['While',\n",
       " 'the',\n",
       " 'minimum',\n",
       " 'wage',\n",
       " 'had',\n",
       " 'traditionally',\n",
       " 'been',\n",
       " 'pegged',\n",
       " '*-164',\n",
       " 'at']"
      ]
     },
     "execution_count": 8,
     "metadata": {},
     "output_type": "execute_result"
    }
   ],
   "source": [
    "# tokens \n",
    "tokens = [pair[0] for pair in train_tagged_words]\n",
    "tokens[:10]"
   ]
  },
  {
   "cell_type": "markdown",
   "metadata": {},
   "source": [
    "### Checking vocabulary and its length"
   ]
  },
  {
   "cell_type": "code",
   "execution_count": 9,
   "metadata": {},
   "outputs": [
    {
     "name": "stdout",
     "output_type": "stream",
     "text": [
      "12078\n"
     ]
    }
   ],
   "source": [
    "# vocabulary\n",
    "V = set(tokens)\n",
    "print(len(V))"
   ]
  },
  {
   "cell_type": "code",
   "execution_count": 10,
   "metadata": {
    "scrolled": true
   },
   "outputs": [
    {
     "data": {
      "text/plain": [
       "{'accountability',\n",
       " 'politely',\n",
       " 'cranked',\n",
       " 'Primerica',\n",
       " 'money-market',\n",
       " 'viewership',\n",
       " 'downgrade',\n",
       " 'torn',\n",
       " 'elementary',\n",
       " '90',\n",
       " 'investigating',\n",
       " 'otherwise',\n",
       " 'syndrome',\n",
       " 'Rotie',\n",
       " 'Choose',\n",
       " 'causes',\n",
       " 'Facilities',\n",
       " 'Asia',\n",
       " 'ugly',\n",
       " 'highest',\n",
       " 'fractionally',\n",
       " 'There',\n",
       " 'read',\n",
       " 'respected',\n",
       " '16.05',\n",
       " 'children',\n",
       " 'fend',\n",
       " 'possessed',\n",
       " 'Marubeni',\n",
       " 'accident',\n",
       " 'preclude',\n",
       " 'sells',\n",
       " '*T*-218',\n",
       " 'April',\n",
       " 'composting',\n",
       " 'rhythm',\n",
       " 'tightening',\n",
       " '1986',\n",
       " '6.03',\n",
       " 'resent',\n",
       " 'unanticipated',\n",
       " 'Current',\n",
       " 'railing',\n",
       " 'reserved',\n",
       " 'paycheck',\n",
       " 'Drug',\n",
       " 'doctor',\n",
       " 'involve',\n",
       " 'bearish',\n",
       " 'Sonnett',\n",
       " 'athletic',\n",
       " 'Backseat',\n",
       " 'lacks',\n",
       " 'multiplying',\n",
       " 'result',\n",
       " 'Warren',\n",
       " 'unfocused',\n",
       " '1988',\n",
       " 'food-industry',\n",
       " 'screens',\n",
       " 'aisles',\n",
       " 'anecdotal',\n",
       " 'ambassador',\n",
       " 'Israel',\n",
       " 'grant',\n",
       " 'Bermuda',\n",
       " 'threat',\n",
       " 'alleged',\n",
       " 'bells',\n",
       " 'Areas',\n",
       " 'ropes',\n",
       " 'capture',\n",
       " 'regrettable',\n",
       " 'I',\n",
       " 'deteriorating',\n",
       " 'Prosecutors',\n",
       " 'Kuvin',\n",
       " 'surgeon',\n",
       " 'Unicorp',\n",
       " 'Tower',\n",
       " 'applicability',\n",
       " 'billion',\n",
       " 'NL',\n",
       " 'controls',\n",
       " 'expendable',\n",
       " '*T*-87',\n",
       " 'altar',\n",
       " 'conditions',\n",
       " 'appeared',\n",
       " 'ordered',\n",
       " 'The',\n",
       " 'le',\n",
       " 'Honolulu',\n",
       " 'businesses',\n",
       " 'Chapman',\n",
       " 'popular',\n",
       " 'lent',\n",
       " 'serving',\n",
       " 'one-hour',\n",
       " 'disciplinary',\n",
       " 'editions',\n",
       " 'Stadiums',\n",
       " 'later',\n",
       " 'modern',\n",
       " 'litigation',\n",
       " '*RNR*-4',\n",
       " 'jet',\n",
       " 'describe',\n",
       " 'Washington-based',\n",
       " 'specified',\n",
       " 'raises',\n",
       " 'disagreement',\n",
       " '7.90',\n",
       " 'inevitable',\n",
       " 'stone',\n",
       " 'cared',\n",
       " 'prevents',\n",
       " 'good-hearted',\n",
       " '1\\\\/8',\n",
       " 'branches',\n",
       " 'Chadha',\n",
       " 'sorry',\n",
       " '2141.7',\n",
       " 'co-developers',\n",
       " 'domestic',\n",
       " 'cast',\n",
       " 'venerable',\n",
       " 'alerts',\n",
       " 'CAT',\n",
       " 'newer',\n",
       " 'covers',\n",
       " 'apparently',\n",
       " 'hour',\n",
       " 'jurisdiction',\n",
       " 'more-advanced',\n",
       " 'Firms',\n",
       " 'buyers',\n",
       " 'educational',\n",
       " 'butterfly',\n",
       " 'purchases',\n",
       " 'diversified',\n",
       " 'Virginia',\n",
       " 'hay',\n",
       " 'fumes',\n",
       " 'Farm',\n",
       " 'prepared',\n",
       " 'everywhere',\n",
       " 'biscuit',\n",
       " 'Petersburg',\n",
       " 'Jacobs',\n",
       " 'Water',\n",
       " 'Neal',\n",
       " 'Rekindled',\n",
       " 'furniture',\n",
       " 'trivial',\n",
       " 'Reasons',\n",
       " '1980s',\n",
       " 'relations',\n",
       " '0.28',\n",
       " '273.5',\n",
       " 'era',\n",
       " '576',\n",
       " 'period',\n",
       " 'Government',\n",
       " 'GOODY',\n",
       " 'Breakey',\n",
       " 'nullified',\n",
       " 'rewarding',\n",
       " '3.28',\n",
       " 'Hurley',\n",
       " 'allocation',\n",
       " 'William',\n",
       " 'Sigmund',\n",
       " 'Rumors',\n",
       " '*T*-104',\n",
       " 'plummeted',\n",
       " 'signifying',\n",
       " '*-49',\n",
       " 'Duluth',\n",
       " 'alternatives',\n",
       " 'Clark',\n",
       " 'beat',\n",
       " 'model',\n",
       " 'adopted',\n",
       " 'unveiled',\n",
       " '125',\n",
       " 'thanks',\n",
       " 'undergoing',\n",
       " 'congressional',\n",
       " 'donor',\n",
       " 'disclose',\n",
       " 'felonies',\n",
       " 'cadet',\n",
       " 'Kennedy',\n",
       " 'Gringo',\n",
       " 'protesters',\n",
       " 'seafood',\n",
       " 'B.A.T',\n",
       " '3.16',\n",
       " 'Adopting',\n",
       " 'differences',\n",
       " 'competitor',\n",
       " 'petulant',\n",
       " 'Brisk',\n",
       " '361,376',\n",
       " 'ago',\n",
       " 'faced',\n",
       " 'billings',\n",
       " 'broad-based',\n",
       " 'midtown',\n",
       " 'pleaded',\n",
       " 'position',\n",
       " 'commitment',\n",
       " 'For',\n",
       " 'first',\n",
       " 'vague',\n",
       " 'favorite',\n",
       " 'quotas',\n",
       " 'Guigal',\n",
       " '*T*-131',\n",
       " '415.6',\n",
       " 'arising',\n",
       " 'ethanol',\n",
       " 'solvent',\n",
       " '55',\n",
       " 'scrape',\n",
       " '*-46',\n",
       " 'continues',\n",
       " 'avert',\n",
       " 'spenders',\n",
       " 'wasted',\n",
       " 'gubernatorial',\n",
       " 'investment-grade',\n",
       " 'Senate',\n",
       " 'Fischer',\n",
       " 'difference',\n",
       " 'in-store',\n",
       " 'sharp',\n",
       " 'Stork',\n",
       " 'doctrine',\n",
       " 'smartly',\n",
       " 'pension',\n",
       " 'Mississippi',\n",
       " 'export',\n",
       " 'remarkable',\n",
       " 'organized',\n",
       " 'snapped',\n",
       " 'consented',\n",
       " 'contained',\n",
       " 'metal',\n",
       " 'inflated',\n",
       " 'racing',\n",
       " 'heads',\n",
       " 'conducting',\n",
       " 'behemoth',\n",
       " 'complicated',\n",
       " 'angered',\n",
       " 'valued',\n",
       " 'records',\n",
       " '*T*-72',\n",
       " 'Every',\n",
       " '1991-2000',\n",
       " 'tone',\n",
       " 'Deryck',\n",
       " 'that',\n",
       " 'SDI',\n",
       " '83',\n",
       " 'attorney-client',\n",
       " 'evident',\n",
       " 'qualify',\n",
       " 'industry',\n",
       " 'establishing',\n",
       " 'Susan',\n",
       " 'bolstered',\n",
       " 'Iowa',\n",
       " 'slowing',\n",
       " 'Kaminski',\n",
       " '*RNR*-2',\n",
       " 'Barbara',\n",
       " 'schemes',\n",
       " 'D.',\n",
       " 'Equitable',\n",
       " '*-75',\n",
       " 'Lawless',\n",
       " 'yon',\n",
       " '19.50',\n",
       " 'tunes',\n",
       " 'definitely',\n",
       " 'Five',\n",
       " 'Safety',\n",
       " 'Rubber',\n",
       " 'mothers',\n",
       " 'ownership',\n",
       " 'FUNDS',\n",
       " 'Phillips',\n",
       " 'transfers',\n",
       " 'occurrences',\n",
       " 'complete',\n",
       " 'comment',\n",
       " 'polyester',\n",
       " '*T*-67',\n",
       " 'emerge',\n",
       " 'troop',\n",
       " 'venture',\n",
       " 'employers',\n",
       " 'hunted',\n",
       " 'stays',\n",
       " 'subordinate',\n",
       " 'Jalaalwalikraam',\n",
       " 'red-flag',\n",
       " 'Icahn',\n",
       " 'sooner',\n",
       " '374.19',\n",
       " 'Hold',\n",
       " 'relieved',\n",
       " 'when',\n",
       " 'Carter',\n",
       " 'mainly',\n",
       " 'liability',\n",
       " 'Pardus',\n",
       " 'default',\n",
       " '*-147',\n",
       " 'participant',\n",
       " '*T*-53',\n",
       " 'Moscow',\n",
       " 'Worksheets',\n",
       " 'influential',\n",
       " 'ports',\n",
       " 'train',\n",
       " 'crackdown',\n",
       " 'cents-a-unit',\n",
       " 'Monopolies',\n",
       " 'introduced',\n",
       " 'sole',\n",
       " 'improving',\n",
       " 'Pratt',\n",
       " 'rollover',\n",
       " 'Tokyo',\n",
       " 'facilities',\n",
       " 'students',\n",
       " 'Estimated',\n",
       " '85.7',\n",
       " 'craft',\n",
       " 'progressive',\n",
       " 'amendment',\n",
       " 'leasing',\n",
       " '1614',\n",
       " 'arched',\n",
       " '83,206',\n",
       " 'stunned',\n",
       " '*-149',\n",
       " 'leases',\n",
       " 'adjustment',\n",
       " 'hand',\n",
       " '0.50',\n",
       " 'Pauline',\n",
       " 'hypocrisy',\n",
       " 'afflicted',\n",
       " 'filling',\n",
       " 'observed',\n",
       " 'dominating',\n",
       " 'enjoyed',\n",
       " '52-week',\n",
       " 'display',\n",
       " 'Over',\n",
       " 'sounding',\n",
       " 'legislature',\n",
       " 'see',\n",
       " 'Dunton',\n",
       " 'Bridgestone\\\\/Firestone',\n",
       " 'Educational',\n",
       " 'curtail',\n",
       " 'Conn.',\n",
       " 'depression',\n",
       " 'recover',\n",
       " 'takings',\n",
       " 'folks',\n",
       " 'infrequent',\n",
       " 'appealing',\n",
       " 'Ala',\n",
       " 'peals',\n",
       " 'house',\n",
       " 'agrees',\n",
       " 'famed',\n",
       " 'maintain',\n",
       " 'Stores',\n",
       " 'barriers',\n",
       " 'painting',\n",
       " '*T*-111',\n",
       " '1990',\n",
       " 'requiring',\n",
       " 'mirror',\n",
       " 'understood',\n",
       " '*T*-85',\n",
       " 'exploration',\n",
       " 'requesting',\n",
       " '1:30',\n",
       " 'S&P',\n",
       " 'buy-back',\n",
       " 'triple-A',\n",
       " 'double-A',\n",
       " 'certain',\n",
       " '*-164',\n",
       " 'execs',\n",
       " 'Bonnell',\n",
       " 'editing',\n",
       " 'across',\n",
       " 'worsening',\n",
       " 'fines',\n",
       " 'We',\n",
       " '*-45',\n",
       " 'discretionary',\n",
       " '*T*-186',\n",
       " 'water-authority',\n",
       " 'wrists',\n",
       " 'issuer',\n",
       " 'Developed',\n",
       " 'your',\n",
       " 'badly',\n",
       " 'complaining',\n",
       " 'tackle',\n",
       " 'dispute',\n",
       " 'anxious',\n",
       " 'stress',\n",
       " 'faltered',\n",
       " 'assembly',\n",
       " 'staying',\n",
       " 'ideological',\n",
       " 'industry-supported',\n",
       " 'joined',\n",
       " 'budget',\n",
       " 'positive',\n",
       " 'evening',\n",
       " 'aircraft',\n",
       " 'hospitable',\n",
       " 'bonds',\n",
       " 'Sandinista',\n",
       " 'pianist-comedian',\n",
       " '30.9',\n",
       " 'Glass',\n",
       " 'integration',\n",
       " 'defended',\n",
       " 'accomplishments',\n",
       " 'games',\n",
       " 'Backe',\n",
       " 'semesters',\n",
       " '3.375',\n",
       " '4,645',\n",
       " 'sports-oriented',\n",
       " 'unrealized',\n",
       " 'subordinated',\n",
       " 'From',\n",
       " 'Packages',\n",
       " 'cease-fire',\n",
       " 'Pate',\n",
       " 'Frances',\n",
       " 'Menem',\n",
       " 'quarters',\n",
       " 'considers',\n",
       " 'opportunity',\n",
       " 'departures',\n",
       " 'additions',\n",
       " 'Retin-A',\n",
       " 'producing',\n",
       " 'Bowman',\n",
       " 'inched',\n",
       " 'amend',\n",
       " 'akin',\n",
       " 'opens',\n",
       " 'yielded',\n",
       " 'Anderson',\n",
       " 'Queen',\n",
       " 'ring',\n",
       " '14\\\\/32',\n",
       " 'replacement',\n",
       " '1.65',\n",
       " 'World-Wide',\n",
       " 'assumed',\n",
       " 'outstanding',\n",
       " 'Baltimore',\n",
       " 'anticipated',\n",
       " 'shipyards',\n",
       " 'Remember',\n",
       " 'membership',\n",
       " '37.5',\n",
       " 'pursued',\n",
       " 'Allied',\n",
       " '145',\n",
       " '*T*-116',\n",
       " 'lauded',\n",
       " 'free',\n",
       " 'bid',\n",
       " 'threatened',\n",
       " 'advocating',\n",
       " 'defendant',\n",
       " 'Guild',\n",
       " 'secretary',\n",
       " '*T*-3',\n",
       " 'G',\n",
       " 'astronomical',\n",
       " '115',\n",
       " 'age',\n",
       " 'positions',\n",
       " '15-day',\n",
       " 'distributed',\n",
       " 'deducting',\n",
       " 'Meinders',\n",
       " 'hub',\n",
       " '87-store',\n",
       " 'salarymen',\n",
       " 'Trailer',\n",
       " 'goodies',\n",
       " 'unanimous',\n",
       " 'hands',\n",
       " 'Fuji',\n",
       " 'attendance',\n",
       " 'retentive',\n",
       " 'conflicts',\n",
       " 'Northeast',\n",
       " 'liquidity',\n",
       " 'war-damaged',\n",
       " 'Najarian',\n",
       " 'Fewer',\n",
       " 'Separately',\n",
       " 'candidate',\n",
       " '116.3',\n",
       " 'hit',\n",
       " 'surge',\n",
       " 'Superconductors',\n",
       " 'specialize',\n",
       " 'exception',\n",
       " 'US$',\n",
       " '13.90',\n",
       " 'coupled',\n",
       " 'reap',\n",
       " 'fund',\n",
       " 'payable',\n",
       " 'associates',\n",
       " 'Journals',\n",
       " 'Andy',\n",
       " 'handful',\n",
       " 'wedded',\n",
       " 'Capital',\n",
       " 'deliberating',\n",
       " 'Hearst',\n",
       " 'with',\n",
       " 'adding',\n",
       " 'Subcontractors',\n",
       " 'traded',\n",
       " 'acquires',\n",
       " 'reciting',\n",
       " 'mental',\n",
       " 'Steinberg',\n",
       " 'low-altitude',\n",
       " 'containers',\n",
       " 'Paramount',\n",
       " '*T*-43',\n",
       " 'cruising',\n",
       " 'wines',\n",
       " 'downward',\n",
       " 'Kingsbridge',\n",
       " 'act',\n",
       " 'stereotyped',\n",
       " 'mathematics',\n",
       " 'auction',\n",
       " 'desperately',\n",
       " 'technical',\n",
       " 'municipal',\n",
       " 'disregard',\n",
       " 'rumored',\n",
       " 'Brean',\n",
       " 'add',\n",
       " 'mega-stadium',\n",
       " '142.85',\n",
       " 'smooth',\n",
       " 'Exchange',\n",
       " 'Friedrichs',\n",
       " 'feasible',\n",
       " 'attempt',\n",
       " 'nominate',\n",
       " 'cabs',\n",
       " 'Environment',\n",
       " 'voted',\n",
       " '*-9',\n",
       " 'moderated',\n",
       " 'last',\n",
       " 'waive',\n",
       " 'doctorate',\n",
       " 'shallow',\n",
       " 'Initiative',\n",
       " 'twice',\n",
       " 'England',\n",
       " 'MORTGAGE',\n",
       " 'Scannell',\n",
       " 'Harpo',\n",
       " 'binders',\n",
       " 'prejudice',\n",
       " 'remaining',\n",
       " 'particulars',\n",
       " 'disappointed',\n",
       " 'Sydney',\n",
       " 'billed',\n",
       " 'unenticing',\n",
       " 'largest',\n",
       " '12.09',\n",
       " 'Speedway',\n",
       " 'Princeton',\n",
       " 'Am',\n",
       " 'cardiovascular',\n",
       " 'scrambling',\n",
       " 'borrowing',\n",
       " 'overcapacity',\n",
       " 'Controls',\n",
       " 'four-color',\n",
       " 'spinoff',\n",
       " 'taught',\n",
       " 'Comtes',\n",
       " 'speech',\n",
       " '-LRB-',\n",
       " 'cope',\n",
       " 'Savin',\n",
       " 'ideas',\n",
       " 'drop-in',\n",
       " 'Red-blooded',\n",
       " 'enviable',\n",
       " 'bribing',\n",
       " 'disappointment',\n",
       " 'ACQUISITION',\n",
       " '150.00',\n",
       " 'goal',\n",
       " 'fixed-income',\n",
       " 'heightened',\n",
       " 'skittishness',\n",
       " 'Moslem',\n",
       " '2160.1',\n",
       " 'each',\n",
       " 'Eurobonds',\n",
       " 'sound',\n",
       " 'contacted',\n",
       " '8.65',\n",
       " 'guns',\n",
       " 'nominees',\n",
       " '7.5',\n",
       " 'weekends',\n",
       " 'retaining',\n",
       " 'K.',\n",
       " 'treats',\n",
       " 'pipes',\n",
       " '50.45',\n",
       " 'imaginative',\n",
       " 'Communications',\n",
       " 'impatient',\n",
       " 'strictly',\n",
       " 'shipped',\n",
       " 'earns',\n",
       " 'Assistant',\n",
       " 'News',\n",
       " 'easy-to-read',\n",
       " 'old',\n",
       " 'Senate-House',\n",
       " 'profess',\n",
       " 'cash-flow',\n",
       " 'profitable',\n",
       " 'plagued',\n",
       " '4.8',\n",
       " 'parents',\n",
       " 'Nelson',\n",
       " 'nationwide',\n",
       " 'discounts',\n",
       " 'USA',\n",
       " 'Namibia',\n",
       " '512',\n",
       " 'Purchase',\n",
       " 'negotiable',\n",
       " '422.5',\n",
       " 'Stronach',\n",
       " 'able',\n",
       " 'south',\n",
       " 'Candlestick',\n",
       " 'Knopf',\n",
       " 'chamber',\n",
       " 'delay',\n",
       " 'offender',\n",
       " 'administration',\n",
       " 'subscribe',\n",
       " 'seven-million-ton',\n",
       " 'interstate',\n",
       " 'DSM',\n",
       " '730',\n",
       " 'BRIEFS',\n",
       " 'R.I.',\n",
       " 'anxieties',\n",
       " 'Taiwan',\n",
       " 'Disputado',\n",
       " 'Hong',\n",
       " 'respond',\n",
       " 'underwriter',\n",
       " 'Factories',\n",
       " '*T*-94',\n",
       " 'Symbol',\n",
       " '*T*-123',\n",
       " 'cancellation',\n",
       " '*T*-107',\n",
       " 'exclusive',\n",
       " 'reprint',\n",
       " 'supporters',\n",
       " 'mundane',\n",
       " 'Unfortunately',\n",
       " 'affordable',\n",
       " 'Anti-Deficiency',\n",
       " '2.375',\n",
       " 'thrifts',\n",
       " 'Sundays',\n",
       " 'Stocks',\n",
       " 'caretaker',\n",
       " 'signed',\n",
       " '5',\n",
       " 'long-term',\n",
       " 'Fifteen',\n",
       " 'efforts',\n",
       " 'excellence',\n",
       " 'poured',\n",
       " 'Nissho-Iwai',\n",
       " 'critical',\n",
       " 'countries',\n",
       " 'primary',\n",
       " 'harass',\n",
       " 'Harper',\n",
       " 'dismissed',\n",
       " '1.5755',\n",
       " 'comfortably',\n",
       " '7.74',\n",
       " 'General',\n",
       " 'Declining',\n",
       " 'Catch-22',\n",
       " 'operates',\n",
       " 'counterparts',\n",
       " 'resubmit',\n",
       " 'Policies',\n",
       " 'exchanges',\n",
       " 'dislike',\n",
       " 'puts',\n",
       " 'jam',\n",
       " 'Amin',\n",
       " '*T*-8',\n",
       " 'Rouge',\n",
       " 'Countries',\n",
       " 'reported',\n",
       " 'copyrights',\n",
       " 'rolling',\n",
       " 'limited-partnership',\n",
       " 'alternative',\n",
       " 'Bill',\n",
       " 'Jim',\n",
       " 'Ancient',\n",
       " 'line-item',\n",
       " 'located',\n",
       " 'fields',\n",
       " '*T*-2',\n",
       " 'monied',\n",
       " 'market-oriented',\n",
       " 'functions',\n",
       " 'Marder',\n",
       " 'Report',\n",
       " 'disappears',\n",
       " 'Ranger',\n",
       " 'Calif',\n",
       " 'zero',\n",
       " 'pass',\n",
       " 're-election',\n",
       " '*T*-179',\n",
       " 'shipyard',\n",
       " 'Providence',\n",
       " 'Political',\n",
       " 'Sanford',\n",
       " 'planes',\n",
       " 'clannish',\n",
       " 'Prof.',\n",
       " 'welcomed',\n",
       " 'marketing',\n",
       " 'worst-case',\n",
       " 'presented',\n",
       " 'relentlessly',\n",
       " 'anti-dumping',\n",
       " '5\\\\/8',\n",
       " 'seriously',\n",
       " 'centennial',\n",
       " 'scarce',\n",
       " 'voluntarily',\n",
       " 'tea',\n",
       " '37-a-share',\n",
       " 'commission',\n",
       " 'growth',\n",
       " 'perpetuate',\n",
       " 'Peninsula',\n",
       " 'necessary',\n",
       " 'dancing',\n",
       " '25.6',\n",
       " 'motors',\n",
       " 'Perhaps',\n",
       " 'jostle',\n",
       " '2.50',\n",
       " 'workbooks',\n",
       " 'withdrawn',\n",
       " 'hair',\n",
       " \"n't\",\n",
       " 'replacement-car',\n",
       " '1,050,000',\n",
       " 'country',\n",
       " 'penetration',\n",
       " 'Gotta',\n",
       " 'Teacher',\n",
       " 'marketed',\n",
       " 'contrasts',\n",
       " 'attracts',\n",
       " 'skilled',\n",
       " 'Chateau',\n",
       " 'Ohio-based',\n",
       " 'generic',\n",
       " 'Information',\n",
       " 'detective-story',\n",
       " 'high-rise',\n",
       " 'sputtered',\n",
       " 'Without',\n",
       " 'shut',\n",
       " 'newly',\n",
       " '8.22',\n",
       " 'revive',\n",
       " 'Liberation',\n",
       " 'Jon',\n",
       " 'signboards',\n",
       " 'Wright',\n",
       " 'Lead',\n",
       " 'combinations',\n",
       " 'goodwill',\n",
       " 'trafficking',\n",
       " 'Frenzy',\n",
       " 'Academically',\n",
       " 'Mulford',\n",
       " 'flooded',\n",
       " 'Manhattan',\n",
       " 'erasures',\n",
       " 'insist',\n",
       " 'periods',\n",
       " 'prestigious',\n",
       " 'invention',\n",
       " 'understands',\n",
       " '7.2',\n",
       " 'milestones',\n",
       " '33',\n",
       " 'safe-deposit',\n",
       " 'N.V',\n",
       " '*-127',\n",
       " 'Bolivia',\n",
       " 'ninth',\n",
       " 'perfectly',\n",
       " 'category',\n",
       " 'Miklos',\n",
       " 'strongest',\n",
       " 'Hudnut',\n",
       " 'enter',\n",
       " 'faith',\n",
       " 'Hutton',\n",
       " 'step',\n",
       " 'Nonetheless',\n",
       " '57.50',\n",
       " '95',\n",
       " 'Depending',\n",
       " 'housing',\n",
       " 'Wheeland',\n",
       " 'Both',\n",
       " 'penalty',\n",
       " 'F.H.',\n",
       " 'futures',\n",
       " '9.75',\n",
       " 'Elsewhere',\n",
       " 'Dallas',\n",
       " 'Missouri',\n",
       " 'Hormats',\n",
       " 'liberal',\n",
       " '500-stock',\n",
       " 'Criticism',\n",
       " 'immense',\n",
       " 'Crown',\n",
       " 'Session',\n",
       " '*T*-219',\n",
       " 'affiliates',\n",
       " 'millions',\n",
       " 'higher',\n",
       " '52',\n",
       " 'economic',\n",
       " '*-119',\n",
       " 'Imports',\n",
       " 'Huber',\n",
       " 'Leinonen',\n",
       " 'Maybe',\n",
       " 'That',\n",
       " 'Zealand',\n",
       " 'Upjohn',\n",
       " '71',\n",
       " 'Arbitrage-related',\n",
       " 'industrialized',\n",
       " 'prying',\n",
       " 'Commodore',\n",
       " 'Kuala',\n",
       " 'says',\n",
       " 'broad',\n",
       " 'Jan.',\n",
       " 'promises',\n",
       " 'men',\n",
       " 'Sacramento',\n",
       " '6,500',\n",
       " 'staunchly',\n",
       " 'recession',\n",
       " 'shares',\n",
       " 'Citadel',\n",
       " 'preset',\n",
       " 'WTVJ',\n",
       " 'evolved',\n",
       " 'Hallwood',\n",
       " 'River',\n",
       " 'retaliating',\n",
       " 'baseball',\n",
       " 'machinery',\n",
       " 'railings',\n",
       " 'Stena',\n",
       " 'protection',\n",
       " 'built-from-kit',\n",
       " '271,124',\n",
       " 'comeback',\n",
       " '51',\n",
       " 'Turnaround',\n",
       " 'Carrier',\n",
       " 'teacher',\n",
       " 'bout',\n",
       " 'amid',\n",
       " '*T*-99',\n",
       " 'acne',\n",
       " 'Mahoney',\n",
       " 'Wu',\n",
       " 'business',\n",
       " 'shareholder',\n",
       " 'includes',\n",
       " 'production',\n",
       " 'Marietta',\n",
       " 'Continued',\n",
       " 'concept',\n",
       " '300,000',\n",
       " 'merge',\n",
       " 'Tiger',\n",
       " 'ready',\n",
       " 'combat',\n",
       " 'ends',\n",
       " 'diluted',\n",
       " 'rather',\n",
       " '30-point',\n",
       " 'type',\n",
       " 'bids',\n",
       " 'frequency',\n",
       " 'lights',\n",
       " 'creams',\n",
       " 'interesting',\n",
       " 'Inventor',\n",
       " '17-year-old',\n",
       " 'Volume',\n",
       " 'leap',\n",
       " 'systematic',\n",
       " 'vagabond',\n",
       " 'childish',\n",
       " 'clarify',\n",
       " 'absurdity',\n",
       " 'congregation',\n",
       " 'leaving',\n",
       " 'kind',\n",
       " 'Uncertainty',\n",
       " 'single-lot',\n",
       " 'Triton',\n",
       " 'eye',\n",
       " 'generation',\n",
       " 'pulling',\n",
       " 'mired',\n",
       " 'mailed',\n",
       " 'inserted',\n",
       " 'Labouisse',\n",
       " 'CALL',\n",
       " 'expands',\n",
       " 'Energy',\n",
       " 'examination',\n",
       " 'sensitivity',\n",
       " 'Services',\n",
       " 'Rubicam',\n",
       " 'copper-rich',\n",
       " 'laurels',\n",
       " 'electric',\n",
       " '1977',\n",
       " 'non-callable',\n",
       " '14.',\n",
       " 'handling',\n",
       " 'tuck',\n",
       " 'Sable',\n",
       " ...}"
      ]
     },
     "execution_count": 10,
     "metadata": {},
     "output_type": "execute_result"
    }
   ],
   "source": [
    "V"
   ]
  },
  {
   "cell_type": "code",
   "execution_count": 11,
   "metadata": {},
   "outputs": [],
   "source": [
    "def gen_freq(text):\n",
    "    #Will store the list of words\n",
    "    word_list = list(V)\n",
    "\n",
    "    #Create word frequencies using word_list\n",
    "    word_freq = pd.Series(word_list).value_counts()\n",
    "\n",
    "    #Print top 20 words\n",
    "    word_freq[:20]\n",
    "    \n",
    "    return word_freq"
   ]
  },
  {
   "cell_type": "markdown",
   "metadata": {},
   "source": [
    "#### Creating wordcloud"
   ]
  },
  {
   "cell_type": "code",
   "execution_count": 12,
   "metadata": {},
   "outputs": [
    {
     "data": {
      "image/png": "[encoded data removed]",
      "text/plain": [
       "<Figure size 1512x1008 with 1 Axes>"
      ]
     },
     "metadata": {
      "needs_background": "light"
     },
     "output_type": "display_data"
    }
   ],
   "source": [
    "#Generate word frequencies\n",
    "word_freq = gen_freq(V)\n",
    "\n",
    "#Generate word cloud\n",
    "wc = WordCloud(width=400, height=330, max_words=100, background_color='white').generate_from_frequencies(word_freq)\n",
    "\n",
    "plt.figure(figsize=(21, 14))\n",
    "plt.imshow(wc, interpolation='bilinear')\n",
    "plt.axis('off')\n",
    "plt.show()"
   ]
  },
  {
   "cell_type": "markdown",
   "metadata": {},
   "source": [
    "#### Checking number of tags"
   ]
  },
  {
   "cell_type": "code",
   "execution_count": 13,
   "metadata": {},
   "outputs": [
    {
     "data": {
      "text/plain": [
       "12"
      ]
     },
     "execution_count": 13,
     "metadata": {},
     "output_type": "execute_result"
    }
   ],
   "source": [
    "# number of tags\n",
    "T = set([pair[1] for pair in train_tagged_words])\n",
    "len(T)"
   ]
  },
  {
   "cell_type": "code",
   "execution_count": 14,
   "metadata": {},
   "outputs": [
    {
     "name": "stdout",
     "output_type": "stream",
     "text": [
      "{'X', 'NUM', 'DET', 'ADJ', 'CONJ', 'ADV', 'PRON', 'NOUN', 'ADP', '.', 'VERB', 'PRT'}\n"
     ]
    }
   ],
   "source": [
    "print(T)"
   ]
  },
  {
   "cell_type": "markdown",
   "metadata": {},
   "source": [
    "#### We are aleady given that the universal tagset of NLTK comprises only 12 coarse tag classes as follows: \n",
    "- Verb\n",
    "- Noun\n",
    "- Pronouns\n",
    "- Adjectives\n",
    "- Adverbs\n",
    "- Adpositions\n",
    "- Conjunctions\n",
    "- Determiners\n",
    "- Cardinal Numbers\n",
    "- Particles\n",
    "- Other/ Foreign words\n",
    "- Punctuations"
   ]
  },
  {
   "cell_type": "markdown",
   "metadata": {},
   "source": [
    "#### From above we can confirm that we have got the correct set of tags"
   ]
  },
  {
   "cell_type": "markdown",
   "metadata": {},
   "source": [
    "## 2. POS Tagging Algorithm - HMM\n",
    "\n",
    "We'll use the HMM algorithm to tag the words. Given a sequence of words to be tagged, the task is to assign the most probable tag to the word. \n",
    "\n",
    "In other words, to every word w, assign the tag t that maximises the likelihood P(t/w). Since P(t/w) = P(w/t). P(t) / P(w), after ignoring P(w), we have to compute P(w/t) and P(t).\n",
    "\n",
    "\n",
    "P(w/t) is basically the probability that given a tag (say NN), what is the probability of it being w (say 'building'). This can be computed by computing the fraction of all NNs which are equal to w, i.e. \n",
    "\n",
    "P(w/t) = count(w, t) / count(t). \n",
    "\n",
    "\n",
    "The term P(t) is the probability of tag t, and in a tagging task, we assume that a tag will depend only on the previous tag. In other words, the probability of a tag being NN will depend only on the previous tag t(n-1). So for e.g. if t(n-1) is a JJ, then t(n) is likely to be an NN since adjectives often precede a noun (blue coat, tall building etc.).\n",
    "\n",
    "\n",
    "Given the penn treebank tagged dataset, we can compute the two terms P(w/t) and P(t) and store them in two large matrices. The matrix of P(w/t) will be sparse, since each word will not be seen with most tags ever, and those terms will thus be zero. \n"
   ]
  },
  {
   "cell_type": "markdown",
   "metadata": {},
   "source": [
    "### Emission Probabilities"
   ]
  },
  {
   "cell_type": "code",
   "execution_count": 15,
   "metadata": {
    "scrolled": true
   },
   "outputs": [],
   "source": [
    "# computing P(w/t) and storing in T x V matrix\n",
    "t = len(T)\n",
    "v = len(V)\n",
    "w_given_t = np.zeros((t, v))"
   ]
  },
  {
   "cell_type": "markdown",
   "metadata": {},
   "source": [
    "#### Function to compute emission probability"
   ]
  },
  {
   "cell_type": "code",
   "execution_count": 16,
   "metadata": {},
   "outputs": [],
   "source": [
    "# compute word given tag: Emission Probability\n",
    "def word_given_tag(word, tag, train_bag = train_tagged_words):\n",
    "    tag_list = [pair for pair in train_bag if pair[1]==tag]\n",
    "    count_tag = len(tag_list)\n",
    "    w_given_tag_list = [pair[0] for pair in tag_list if pair[0]==word]\n",
    "    count_w_given_tag = len(w_given_tag_list)\n",
    "    \n",
    "    return (count_w_given_tag, count_tag)"
   ]
  },
  {
   "cell_type": "code",
   "execution_count": 17,
   "metadata": {
    "scrolled": true
   },
   "outputs": [
    {
     "name": "stdout",
     "output_type": "stream",
     "text": [
      "\n",
      " large\n",
      "(26, 6042)\n",
      "(0, 12887)\n",
      "(0, 0) \n",
      "\n",
      "\n",
      " will\n",
      "(1, 27441)\n",
      "(271, 12887)\n",
      "\n",
      " book\n",
      "(7, 27441)\n",
      "(1, 12887)\n"
     ]
    }
   ],
   "source": [
    "# examples\n",
    "\n",
    "# large\n",
    "print(\"\\n\", \"large\")\n",
    "print(word_given_tag('large', 'ADJ'))\n",
    "print(word_given_tag('large', 'VERB'))\n",
    "print(word_given_tag('large', 'NOUNN'), \"\\n\")\n",
    "\n",
    "# will\n",
    "print(\"\\n\", \"will\")\n",
    "print(word_given_tag('will', 'NOUN'))\n",
    "print(word_given_tag('will', 'VERB'))\n",
    "\n",
    "# book\n",
    "print(\"\\n\", \"book\")\n",
    "print(word_given_tag('book', 'NOUN'))\n",
    "print(word_given_tag('book', 'VERB'))"
   ]
  },
  {
   "cell_type": "code",
   "execution_count": 18,
   "metadata": {
    "scrolled": true
   },
   "outputs": [
    {
     "name": "stdout",
     "output_type": "stream",
     "text": [
      "(0, 27441)\n"
     ]
    }
   ],
   "source": [
    "print(word_given_tag('Android', 'NOUN'))"
   ]
  },
  {
   "cell_type": "code",
   "execution_count": 19,
   "metadata": {},
   "outputs": [
    {
     "name": "stdout",
     "output_type": "stream",
     "text": [
      "(0, 12887)\n"
     ]
    }
   ],
   "source": [
    "print(word_given_tag('Android', 'VERB'))"
   ]
  },
  {
   "cell_type": "markdown",
   "metadata": {},
   "source": [
    "### Transition Probabilities"
   ]
  },
  {
   "cell_type": "markdown",
   "metadata": {},
   "source": [
    "#### Function to tag Transition probabilites"
   ]
  },
  {
   "cell_type": "code",
   "execution_count": 20,
   "metadata": {},
   "outputs": [],
   "source": [
    "# compute tag given tag: tag2(t2) given tag1 (t1), i.e. Transition Probability\n",
    "\n",
    "def t2_given_t1(t2, t1, train_bag = train_tagged_words):\n",
    "    tags = [pair[1] for pair in train_bag]\n",
    "    count_t1 = len([t for t in tags if t==t1])\n",
    "    count_t2_t1 = 0\n",
    "    for index in range(len(tags)-1):\n",
    "        if tags[index]==t1 and tags[index+1] == t2:\n",
    "            count_t2_t1 += 1\n",
    "    return (count_t2_t1, count_t1)"
   ]
  },
  {
   "cell_type": "code",
   "execution_count": 21,
   "metadata": {
    "scrolled": true
   },
   "outputs": [],
   "source": [
    "# creating t x t transition matrix of tags\n",
    "# each column is t2, each row is t1\n",
    "# thus M(i, j) represents P(tj given ti)\n",
    "\n",
    "tags_matrix = np.zeros((len(T), len(T)), dtype='float32')\n",
    "for i, t1 in enumerate(list(T)):\n",
    "    for j, t2 in enumerate(list(T)): \n",
    "        tags_matrix[i, j] = t2_given_t1(t2, t1)[0]/t2_given_t1(t2, t1)[1]"
   ]
  },
  {
   "cell_type": "code",
   "execution_count": 22,
   "metadata": {
    "scrolled": true
   },
   "outputs": [
    {
     "data": {
      "text/plain": [
       "array([[7.45321885e-02, 2.69584521e-03, 5.53441159e-02, 1.71265453e-02,\n",
       "        1.04662227e-02, 2.53726617e-02, 5.59784323e-02, 6.15287013e-02,\n",
       "        1.45575643e-01, 1.63336501e-01, 2.04249918e-01, 1.83793217e-01],\n",
       "       [2.14925379e-01, 1.87761188e-01, 3.58208944e-03, 3.22388075e-02,\n",
       "        1.34328362e-02, 2.68656714e-03, 1.19402981e-03, 3.53432834e-01,\n",
       "        3.49253714e-02, 1.13134332e-01, 1.79104470e-02, 2.47761197e-02],\n",
       "       [4.55421694e-02, 2.18072291e-02, 5.54216886e-03, 2.03614458e-01,\n",
       "        4.81927709e-04, 1.24096386e-02, 3.37349391e-03, 6.40361428e-01,\n",
       "        9.27710813e-03, 1.75903607e-02, 3.97590362e-02, 2.40963855e-04],\n",
       "       [2.03574970e-02, 2.08540224e-02, 4.79973527e-03, 6.78583235e-02,\n",
       "        1.63853038e-02, 4.63422714e-03, 4.96524328e-04, 6.99602783e-01,\n",
       "        7.64647499e-02, 6.52101934e-02, 1.27441240e-02, 1.05925193e-02],\n",
       "       [8.78409576e-03, 4.06842344e-02, 1.19278781e-01, 1.14193253e-01,\n",
       "        4.62320837e-04, 5.54785021e-02, 5.91770671e-02, 3.51363838e-01,\n",
       "        5.36292195e-02, 3.60610262e-02, 1.56726763e-01, 4.16088756e-03],\n",
       "       [2.36194283e-02, 2.96074525e-02, 6.95276111e-02, 1.27744511e-01,\n",
       "        6.98602805e-03, 8.15036595e-02, 1.49700595e-02, 3.26014645e-02,\n",
       "        1.17764473e-01, 1.36061206e-01, 3.46640050e-01, 1.29740518e-02],\n",
       "       [9.34256092e-02, 7.30488263e-03, 9.61168762e-03, 7.22798929e-02,\n",
       "        4.99807764e-03, 3.57554778e-02, 7.68935028e-03, 2.09919259e-01,\n",
       "        2.26835832e-02, 3.92156877e-02, 4.84429061e-01, 1.26874279e-02],\n",
       "       [2.94449907e-02, 9.32910573e-03, 1.33377062e-02, 1.22808935e-02,\n",
       "        4.27826978e-02, 1.67632382e-02, 4.77387849e-03, 2.64239639e-01,\n",
       "        1.76669940e-01, 2.39349872e-01, 1.46350354e-01, 4.46776710e-02],\n",
       "       [3.38856243e-02, 6.24265112e-02, 3.24639231e-01, 1.06039554e-01,\n",
       "        8.55157676e-04, 1.31480489e-02, 6.86264038e-02, 3.22073758e-01,\n",
       "        1.74238384e-02, 4.08337787e-02, 8.55157711e-03, 1.49652595e-03],\n",
       "       [2.65909508e-02, 8.04038197e-02, 1.74779162e-01, 4.38074619e-02,\n",
       "        5.89507855e-02, 5.24607897e-02, 6.61618859e-02, 2.22372457e-01,\n",
       "        8.98683965e-02, 9.23922807e-02, 8.97782594e-02, 2.34360923e-03],\n",
       "       [2.18825176e-01, 2.32792739e-02, 1.33700624e-01, 6.43283948e-02,\n",
       "        5.50942821e-03, 8.17102492e-02, 3.56172882e-02, 1.10343754e-01,\n",
       "        9.14875492e-02, 3.47637162e-02, 1.68774739e-01, 3.16598117e-02],\n",
       "       [1.36852395e-02, 5.50667979e-02, 1.00032583e-01, 8.56956691e-02,\n",
       "        2.28087325e-03, 9.77517106e-03, 1.75953079e-02, 2.50896066e-01,\n",
       "        2.08536983e-02, 4.33365926e-02, 3.98826987e-01, 1.95503421e-03]],\n",
       "      dtype=float32)"
      ]
     },
     "execution_count": 22,
     "metadata": {},
     "output_type": "execute_result"
    }
   ],
   "source": [
    "tags_matrix"
   ]
  },
  {
   "cell_type": "code",
   "execution_count": 23,
   "metadata": {},
   "outputs": [],
   "source": [
    "# convert the matrix to a df for better readability\n",
    "tags_df = pd.DataFrame(tags_matrix, columns = list(T), index=list(T))"
   ]
  },
  {
   "cell_type": "code",
   "execution_count": 24,
   "metadata": {
    "scrolled": true
   },
   "outputs": [
    {
     "data": {
      "text/html": [
       "<div>\n",
       "<style scoped>\n",
       "    .dataframe tbody tr th:only-of-type {\n",
       "        vertical-align: middle;\n",
       "    }\n",
       "\n",
       "    .dataframe tbody tr th {\n",
       "        vertical-align: top;\n",
       "    }\n",
       "\n",
       "    .dataframe thead th {\n",
       "        text-align: right;\n",
       "    }\n",
       "</style>\n",
       "<table border=\"1\" class=\"dataframe\">\n",
       "  <thead>\n",
       "    <tr style=\"text-align: right;\">\n",
       "      <th></th>\n",
       "      <th>X</th>\n",
       "      <th>NUM</th>\n",
       "      <th>DET</th>\n",
       "      <th>ADJ</th>\n",
       "      <th>CONJ</th>\n",
       "      <th>ADV</th>\n",
       "      <th>PRON</th>\n",
       "      <th>NOUN</th>\n",
       "      <th>ADP</th>\n",
       "      <th>.</th>\n",
       "      <th>VERB</th>\n",
       "      <th>PRT</th>\n",
       "    </tr>\n",
       "  </thead>\n",
       "  <tbody>\n",
       "    <tr>\n",
       "      <th>X</th>\n",
       "      <td>0.074532</td>\n",
       "      <td>0.002696</td>\n",
       "      <td>0.055344</td>\n",
       "      <td>0.017127</td>\n",
       "      <td>0.010466</td>\n",
       "      <td>0.025373</td>\n",
       "      <td>0.055978</td>\n",
       "      <td>0.061529</td>\n",
       "      <td>0.145576</td>\n",
       "      <td>0.163337</td>\n",
       "      <td>0.204250</td>\n",
       "      <td>0.183793</td>\n",
       "    </tr>\n",
       "    <tr>\n",
       "      <th>NUM</th>\n",
       "      <td>0.214925</td>\n",
       "      <td>0.187761</td>\n",
       "      <td>0.003582</td>\n",
       "      <td>0.032239</td>\n",
       "      <td>0.013433</td>\n",
       "      <td>0.002687</td>\n",
       "      <td>0.001194</td>\n",
       "      <td>0.353433</td>\n",
       "      <td>0.034925</td>\n",
       "      <td>0.113134</td>\n",
       "      <td>0.017910</td>\n",
       "      <td>0.024776</td>\n",
       "    </tr>\n",
       "    <tr>\n",
       "      <th>DET</th>\n",
       "      <td>0.045542</td>\n",
       "      <td>0.021807</td>\n",
       "      <td>0.005542</td>\n",
       "      <td>0.203614</td>\n",
       "      <td>0.000482</td>\n",
       "      <td>0.012410</td>\n",
       "      <td>0.003373</td>\n",
       "      <td>0.640361</td>\n",
       "      <td>0.009277</td>\n",
       "      <td>0.017590</td>\n",
       "      <td>0.039759</td>\n",
       "      <td>0.000241</td>\n",
       "    </tr>\n",
       "    <tr>\n",
       "      <th>ADJ</th>\n",
       "      <td>0.020357</td>\n",
       "      <td>0.020854</td>\n",
       "      <td>0.004800</td>\n",
       "      <td>0.067858</td>\n",
       "      <td>0.016385</td>\n",
       "      <td>0.004634</td>\n",
       "      <td>0.000497</td>\n",
       "      <td>0.699603</td>\n",
       "      <td>0.076465</td>\n",
       "      <td>0.065210</td>\n",
       "      <td>0.012744</td>\n",
       "      <td>0.010593</td>\n",
       "    </tr>\n",
       "    <tr>\n",
       "      <th>CONJ</th>\n",
       "      <td>0.008784</td>\n",
       "      <td>0.040684</td>\n",
       "      <td>0.119279</td>\n",
       "      <td>0.114193</td>\n",
       "      <td>0.000462</td>\n",
       "      <td>0.055479</td>\n",
       "      <td>0.059177</td>\n",
       "      <td>0.351364</td>\n",
       "      <td>0.053629</td>\n",
       "      <td>0.036061</td>\n",
       "      <td>0.156727</td>\n",
       "      <td>0.004161</td>\n",
       "    </tr>\n",
       "    <tr>\n",
       "      <th>ADV</th>\n",
       "      <td>0.023619</td>\n",
       "      <td>0.029607</td>\n",
       "      <td>0.069528</td>\n",
       "      <td>0.127745</td>\n",
       "      <td>0.006986</td>\n",
       "      <td>0.081504</td>\n",
       "      <td>0.014970</td>\n",
       "      <td>0.032601</td>\n",
       "      <td>0.117764</td>\n",
       "      <td>0.136061</td>\n",
       "      <td>0.346640</td>\n",
       "      <td>0.012974</td>\n",
       "    </tr>\n",
       "    <tr>\n",
       "      <th>PRON</th>\n",
       "      <td>0.093426</td>\n",
       "      <td>0.007305</td>\n",
       "      <td>0.009612</td>\n",
       "      <td>0.072280</td>\n",
       "      <td>0.004998</td>\n",
       "      <td>0.035755</td>\n",
       "      <td>0.007689</td>\n",
       "      <td>0.209919</td>\n",
       "      <td>0.022684</td>\n",
       "      <td>0.039216</td>\n",
       "      <td>0.484429</td>\n",
       "      <td>0.012687</td>\n",
       "    </tr>\n",
       "    <tr>\n",
       "      <th>NOUN</th>\n",
       "      <td>0.029445</td>\n",
       "      <td>0.009329</td>\n",
       "      <td>0.013338</td>\n",
       "      <td>0.012281</td>\n",
       "      <td>0.042783</td>\n",
       "      <td>0.016763</td>\n",
       "      <td>0.004774</td>\n",
       "      <td>0.264240</td>\n",
       "      <td>0.176670</td>\n",
       "      <td>0.239350</td>\n",
       "      <td>0.146350</td>\n",
       "      <td>0.044678</td>\n",
       "    </tr>\n",
       "    <tr>\n",
       "      <th>ADP</th>\n",
       "      <td>0.033886</td>\n",
       "      <td>0.062427</td>\n",
       "      <td>0.324639</td>\n",
       "      <td>0.106040</td>\n",
       "      <td>0.000855</td>\n",
       "      <td>0.013148</td>\n",
       "      <td>0.068626</td>\n",
       "      <td>0.322074</td>\n",
       "      <td>0.017424</td>\n",
       "      <td>0.040834</td>\n",
       "      <td>0.008552</td>\n",
       "      <td>0.001497</td>\n",
       "    </tr>\n",
       "    <tr>\n",
       "      <th>.</th>\n",
       "      <td>0.026591</td>\n",
       "      <td>0.080404</td>\n",
       "      <td>0.174779</td>\n",
       "      <td>0.043807</td>\n",
       "      <td>0.058951</td>\n",
       "      <td>0.052461</td>\n",
       "      <td>0.066162</td>\n",
       "      <td>0.222372</td>\n",
       "      <td>0.089868</td>\n",
       "      <td>0.092392</td>\n",
       "      <td>0.089778</td>\n",
       "      <td>0.002344</td>\n",
       "    </tr>\n",
       "    <tr>\n",
       "      <th>VERB</th>\n",
       "      <td>0.218825</td>\n",
       "      <td>0.023279</td>\n",
       "      <td>0.133701</td>\n",
       "      <td>0.064328</td>\n",
       "      <td>0.005509</td>\n",
       "      <td>0.081710</td>\n",
       "      <td>0.035617</td>\n",
       "      <td>0.110344</td>\n",
       "      <td>0.091488</td>\n",
       "      <td>0.034764</td>\n",
       "      <td>0.168775</td>\n",
       "      <td>0.031660</td>\n",
       "    </tr>\n",
       "    <tr>\n",
       "      <th>PRT</th>\n",
       "      <td>0.013685</td>\n",
       "      <td>0.055067</td>\n",
       "      <td>0.100033</td>\n",
       "      <td>0.085696</td>\n",
       "      <td>0.002281</td>\n",
       "      <td>0.009775</td>\n",
       "      <td>0.017595</td>\n",
       "      <td>0.250896</td>\n",
       "      <td>0.020854</td>\n",
       "      <td>0.043337</td>\n",
       "      <td>0.398827</td>\n",
       "      <td>0.001955</td>\n",
       "    </tr>\n",
       "  </tbody>\n",
       "</table>\n",
       "</div>"
      ],
      "text/plain": [
       "             X       NUM       DET       ADJ      CONJ       ADV      PRON  \\\n",
       "X     0.074532  0.002696  0.055344  0.017127  0.010466  0.025373  0.055978   \n",
       "NUM   0.214925  0.187761  0.003582  0.032239  0.013433  0.002687  0.001194   \n",
       "DET   0.045542  0.021807  0.005542  0.203614  0.000482  0.012410  0.003373   \n",
       "ADJ   0.020357  0.020854  0.004800  0.067858  0.016385  0.004634  0.000497   \n",
       "CONJ  0.008784  0.040684  0.119279  0.114193  0.000462  0.055479  0.059177   \n",
       "ADV   0.023619  0.029607  0.069528  0.127745  0.006986  0.081504  0.014970   \n",
       "PRON  0.093426  0.007305  0.009612  0.072280  0.004998  0.035755  0.007689   \n",
       "NOUN  0.029445  0.009329  0.013338  0.012281  0.042783  0.016763  0.004774   \n",
       "ADP   0.033886  0.062427  0.324639  0.106040  0.000855  0.013148  0.068626   \n",
       ".     0.026591  0.080404  0.174779  0.043807  0.058951  0.052461  0.066162   \n",
       "VERB  0.218825  0.023279  0.133701  0.064328  0.005509  0.081710  0.035617   \n",
       "PRT   0.013685  0.055067  0.100033  0.085696  0.002281  0.009775  0.017595   \n",
       "\n",
       "          NOUN       ADP         .      VERB       PRT  \n",
       "X     0.061529  0.145576  0.163337  0.204250  0.183793  \n",
       "NUM   0.353433  0.034925  0.113134  0.017910  0.024776  \n",
       "DET   0.640361  0.009277  0.017590  0.039759  0.000241  \n",
       "ADJ   0.699603  0.076465  0.065210  0.012744  0.010593  \n",
       "CONJ  0.351364  0.053629  0.036061  0.156727  0.004161  \n",
       "ADV   0.032601  0.117764  0.136061  0.346640  0.012974  \n",
       "PRON  0.209919  0.022684  0.039216  0.484429  0.012687  \n",
       "NOUN  0.264240  0.176670  0.239350  0.146350  0.044678  \n",
       "ADP   0.322074  0.017424  0.040834  0.008552  0.001497  \n",
       ".     0.222372  0.089868  0.092392  0.089778  0.002344  \n",
       "VERB  0.110344  0.091488  0.034764  0.168775  0.031660  \n",
       "PRT   0.250896  0.020854  0.043337  0.398827  0.001955  "
      ]
     },
     "execution_count": 24,
     "metadata": {},
     "output_type": "execute_result"
    }
   ],
   "source": [
    "tags_df"
   ]
  },
  {
   "cell_type": "code",
   "execution_count": 25,
   "metadata": {
    "scrolled": true
   },
   "outputs": [
    {
     "data": {
      "text/plain": [
       "X       0.026591\n",
       "NUM     0.080404\n",
       "DET     0.174779\n",
       "ADJ     0.043807\n",
       "CONJ    0.058951\n",
       "ADV     0.052461\n",
       "PRON    0.066162\n",
       "NOUN    0.222372\n",
       "ADP     0.089868\n",
       ".       0.092392\n",
       "VERB    0.089778\n",
       "PRT     0.002344\n",
       "Name: ., dtype: float32"
      ]
     },
     "execution_count": 25,
     "metadata": {},
     "output_type": "execute_result"
    }
   ],
   "source": [
    "tags_df.loc['.', :]"
   ]
  },
  {
   "cell_type": "code",
   "execution_count": 26,
   "metadata": {},
   "outputs": [
    {
     "data": {
      "image/png": "[encoded data removed]",
      "text/plain": [
       "<Figure size 1296x864 with 2 Axes>"
      ]
     },
     "metadata": {
      "needs_background": "light"
     },
     "output_type": "display_data"
    }
   ],
   "source": [
    "# heatmap of tags matrix\n",
    "# T(i, j) means P(tag j given tag i)\n",
    "plt.figure(figsize=(18, 12))\n",
    "sns.heatmap(tags_df)\n",
    "plt.show()\n"
   ]
  },
  {
   "cell_type": "markdown",
   "metadata": {},
   "source": [
    "#### Checking frequent tags"
   ]
  },
  {
   "cell_type": "code",
   "execution_count": 27,
   "metadata": {},
   "outputs": [
    {
     "data": {
      "image/png": "[encoded data removed]",
      "text/plain": [
       "<Figure size 1296x864 with 2 Axes>"
      ]
     },
     "metadata": {
      "needs_background": "light"
     },
     "output_type": "display_data"
    }
   ],
   "source": [
    "# frequent tags\n",
    "# filter the df to get P(t2, t1) > 0.5\n",
    "tags_frequent = tags_df[tags_df>0.5]\n",
    "plt.figure(figsize=(18, 12))\n",
    "sns.heatmap(tags_frequent)\n",
    "plt.show()"
   ]
  },
  {
   "cell_type": "code",
   "execution_count": null,
   "metadata": {},
   "outputs": [],
   "source": []
  },
  {
   "cell_type": "markdown",
   "metadata": {},
   "source": [
    "## Build the vanilla Viterbi based POS tagger"
   ]
  },
  {
   "cell_type": "markdown",
   "metadata": {},
   "source": [
    "## 3. Viterbi Algorithm\n",
    "\n",
    "Let's now use the computed probabilities P(w, tag) and P(t2, t1) to assign tags to each word in the document. We'll run through each word w and compute P(tag/w)=P(w/tag).P(tag) for each tag in the tag set, and then assign the tag having the max P(tag/w).\n",
    "\n",
    "We'll store the assigned tags in a list of tuples, similar to the list 'train_tagged_words'. Each tuple will be a (token, assigned_tag). As we progress further in the list, each tag to be assigned will use the tag of the previous token.\n",
    "\n",
    "Note: P(tag|start) = P(tag|'.') "
   ]
  },
  {
   "cell_type": "code",
   "execution_count": 28,
   "metadata": {},
   "outputs": [
    {
     "data": {
      "text/plain": [
       "95614"
      ]
     },
     "execution_count": 28,
     "metadata": {},
     "output_type": "execute_result"
    }
   ],
   "source": [
    "len(train_tagged_words)"
   ]
  },
  {
   "cell_type": "markdown",
   "metadata": {},
   "source": [
    "#### Building the vanilla Viterbi based POS tagger"
   ]
  },
  {
   "cell_type": "code",
   "execution_count": 29,
   "metadata": {},
   "outputs": [],
   "source": [
    "# Viterbi Heuristic\n",
    "def Viterbi(words, train_bag = train_tagged_words):\n",
    "    state = []\n",
    "    T = list(set([pair[1] for pair in train_bag]))\n",
    "    \n",
    "    for key, word in enumerate(words):\n",
    "        #initialise list of probability column for a given observation\n",
    "        p = [] \n",
    "        for tag in T:\n",
    "            if key == 0:\n",
    "                transition_p = tags_df.loc['.', tag]\n",
    "            else:\n",
    "                transition_p = tags_df.loc[state[-1], tag]\n",
    "                \n",
    "            # compute emission and state probabilities\n",
    "            emission_p = word_given_tag(words[key], tag)[0]/word_given_tag(words[key], tag)[1]\n",
    "            state_probability = emission_p * transition_p    \n",
    "            p.append(state_probability)\n",
    "            \n",
    "        pmax = max(p)\n",
    "        # getting state for which probability is maximum\n",
    "        state_max = T[p.index(pmax)] \n",
    "        state.append(state_max)\n",
    "    return list(zip(words, state))\n",
    "\n"
   ]
  },
  {
   "cell_type": "code",
   "execution_count": null,
   "metadata": {},
   "outputs": [],
   "source": []
  },
  {
   "cell_type": "markdown",
   "metadata": {},
   "source": [
    "## 4. Evaluating on Test Set"
   ]
  },
  {
   "cell_type": "code",
   "execution_count": 30,
   "metadata": {
    "scrolled": true
   },
   "outputs": [
    {
     "data": {
      "text/plain": [
       "[[('Mr.', 'NOUN'),\n",
       "  ('Samnick', 'NOUN'),\n",
       "  ('said', 'VERB'),\n",
       "  ('0', 'X'),\n",
       "  ('a', 'DET'),\n",
       "  ('guild', 'NOUN'),\n",
       "  ('disciplinary', 'ADJ'),\n",
       "  ('hearing', 'NOUN'),\n",
       "  ('is', 'VERB'),\n",
       "  ('scheduled', 'VERB'),\n",
       "  ('*-1', 'X'),\n",
       "  ('next', 'ADP'),\n",
       "  ('Monday', 'NOUN'),\n",
       "  ('in', 'ADP'),\n",
       "  ('New', 'NOUN'),\n",
       "  ('York', 'NOUN'),\n",
       "  ('.', '.')],\n",
       " [('The', 'DET'),\n",
       "  ('Democrat', 'NOUN'),\n",
       "  (\"'s\", 'PRT'),\n",
       "  ('proposal', 'NOUN'),\n",
       "  ('is', 'VERB'),\n",
       "  ('described', 'VERB'),\n",
       "  ('*-1', 'X'),\n",
       "  ('by', 'ADP'),\n",
       "  ('government', 'NOUN'),\n",
       "  ('sources', 'NOUN'),\n",
       "  ('and', 'CONJ'),\n",
       "  ('lobbyists', 'NOUN'),\n",
       "  ('as', 'ADV'),\n",
       "  ('significantly', 'ADV'),\n",
       "  ('weaker', 'ADJ'),\n",
       "  ('than', 'ADP'),\n",
       "  ('the', 'DET'),\n",
       "  ('president', 'NOUN'),\n",
       "  (\"'s\", 'PRT'),\n",
       "  ('plan', 'NOUN'),\n",
       "  ('*', 'X'),\n",
       "  ('to', 'PRT'),\n",
       "  ('cut', 'VERB'),\n",
       "  ('utility', 'NOUN'),\n",
       "  ('emissions', 'NOUN'),\n",
       "  ('.', '.')],\n",
       " [('Municipal', 'ADJ'),\n",
       "  ('bonds', 'NOUN'),\n",
       "  ('were', 'VERB'),\n",
       "  ('mostly', 'ADV'),\n",
       "  ('unchanged', 'ADJ'),\n",
       "  ('to', 'PRT'),\n",
       "  ('up', 'ADV'),\n",
       "  ('1\\\\/8', 'NUM'),\n",
       "  ('point', 'NOUN'),\n",
       "  ('in', 'ADP'),\n",
       "  ('light', 'ADJ'),\n",
       "  (',', '.'),\n",
       "  ('cautious', 'ADJ'),\n",
       "  ('trading', 'NOUN'),\n",
       "  ('prior', 'ADV'),\n",
       "  ('to', 'PRT'),\n",
       "  ('tomorrow', 'NOUN'),\n",
       "  (\"'s\", 'PRT'),\n",
       "  ('unemployment', 'NOUN'),\n",
       "  ('report', 'NOUN'),\n",
       "  ('.', '.')],\n",
       " [('The', 'DET'),\n",
       "  ('average', 'ADJ'),\n",
       "  ('estimate', 'NOUN'),\n",
       "  ('of', 'ADP'),\n",
       "  ('22', 'NUM'),\n",
       "  ('economists', 'NOUN'),\n",
       "  ('polled', 'VERB'),\n",
       "  ('*', 'X'),\n",
       "  ('by', 'ADP'),\n",
       "  ('Dow', 'NOUN'),\n",
       "  ('Jones', 'NOUN'),\n",
       "  ('Capital', 'NOUN'),\n",
       "  ('Markets', 'NOUN'),\n",
       "  ('Report', 'NOUN'),\n",
       "  ('was', 'VERB'),\n",
       "  ('that', 'ADP'),\n",
       "  ('non-farm', 'ADJ'),\n",
       "  ('payrolls', 'NOUN'),\n",
       "  ('expanded', 'VERB'),\n",
       "  ('by', 'ADP'),\n",
       "  ('152,000', 'NUM'),\n",
       "  ('in', 'ADP'),\n",
       "  ('October', 'NOUN'),\n",
       "  ('.', '.')],\n",
       " [('FALL', 'NOUN'),\n",
       "  ('BALLOT', 'NOUN'),\n",
       "  ('ISSUES', 'NOUN'),\n",
       "  ('set', 'VERB'),\n",
       "  ('a', 'DET'),\n",
       "  ('record', 'NOUN'),\n",
       "  ('for', 'ADP'),\n",
       "  ('off-year', 'ADJ'),\n",
       "  ('elections', 'NOUN'),\n",
       "  ('.', '.')]]"
      ]
     },
     "execution_count": 30,
     "metadata": {},
     "output_type": "execute_result"
    }
   ],
   "source": [
    "# Running on entire test dataset would take more than 3-4hrs. \n",
    "# Let's test our Viterbi algorithm on a few sample sentences of test dataset\n",
    "\n",
    "random.seed(1234)\n",
    "\n",
    "# choose random 5 sents\n",
    "rndom = [random.randint(1,len(test_set)) for x in range(5)]\n",
    "\n",
    "# list of sents\n",
    "test_run = [test_set[i] for i in rndom]\n",
    "\n",
    "# list of tagged words\n",
    "test_run_base = [tup for sent in test_run for tup in sent]\n",
    "\n",
    "# list of untagged words\n",
    "test_tagged_words = [tup[0] for sent in test_run for tup in sent]\n",
    "test_run"
   ]
  },
  {
   "cell_type": "code",
   "execution_count": 31,
   "metadata": {},
   "outputs": [],
   "source": [
    "# tagging the test sentences\n",
    "start = time.time()\n",
    "tagged_seq = Viterbi(test_tagged_words)\n",
    "end = time.time()\n",
    "difference = end-start"
   ]
  },
  {
   "cell_type": "code",
   "execution_count": 32,
   "metadata": {
    "scrolled": true
   },
   "outputs": [
    {
     "name": "stdout",
     "output_type": "stream",
     "text": [
      "Time taken in seconds:  23.08988618850708\n",
      "[('Mr.', 'NOUN'), ('Samnick', 'NOUN'), ('said', 'VERB'), ('0', 'X'), ('a', 'DET'), ('guild', 'NOUN'), ('disciplinary', 'ADJ'), ('hearing', 'NOUN'), ('is', 'VERB'), ('scheduled', 'VERB'), ('*-1', 'X'), ('next', 'ADJ'), ('Monday', 'NOUN'), ('in', 'ADP'), ('New', 'NOUN'), ('York', 'NOUN'), ('.', '.'), ('The', 'DET'), ('Democrat', 'NOUN'), (\"'s\", 'PRT'), ('proposal', 'NOUN'), ('is', 'VERB'), ('described', 'VERB'), ('*-1', 'X'), ('by', 'ADP'), ('government', 'NOUN'), ('sources', 'NOUN'), ('and', 'CONJ'), ('lobbyists', 'NOUN'), ('as', 'ADP'), ('significantly', 'ADV'), ('weaker', 'ADJ'), ('than', 'ADP'), ('the', 'DET'), ('president', 'NOUN'), (\"'s\", 'PRT'), ('plan', 'NOUN'), ('*', 'X'), ('to', 'PRT'), ('cut', 'VERB'), ('utility', 'NOUN'), ('emissions', 'NOUN'), ('.', '.'), ('Municipal', 'NOUN'), ('bonds', 'NOUN'), ('were', 'VERB'), ('mostly', 'ADV'), ('unchanged', 'ADJ'), ('to', 'PRT'), ('up', 'ADV'), ('1\\\\/8', 'NUM'), ('point', 'NOUN'), ('in', 'ADP'), ('light', 'ADJ'), (',', '.'), ('cautious', 'ADJ'), ('trading', 'NOUN'), ('prior', 'ADV'), ('to', 'PRT'), ('tomorrow', 'NOUN'), (\"'s\", 'PRT'), ('unemployment', 'NOUN'), ('report', 'NOUN'), ('.', '.'), ('The', 'DET'), ('average', 'ADJ'), ('estimate', 'NOUN'), ('of', 'ADP'), ('22', 'NUM'), ('economists', 'NOUN'), ('polled', 'VERB'), ('*', 'X'), ('by', 'ADP'), ('Dow', 'NOUN'), ('Jones', 'NOUN'), ('Capital', 'NOUN'), ('Markets', 'NOUN'), ('Report', 'NOUN'), ('was', 'VERB'), ('that', 'ADP'), ('non-farm', 'X'), ('payrolls', 'NOUN'), ('expanded', 'VERB'), ('by', 'ADP'), ('152,000', 'X'), ('in', 'ADP'), ('October', 'NOUN'), ('.', '.'), ('FALL', 'X'), ('BALLOT', 'X'), ('ISSUES', 'X'), ('set', 'VERB'), ('a', 'DET'), ('record', 'NOUN'), ('for', 'ADP'), ('off-year', 'X'), ('elections', 'NOUN'), ('.', '.')]\n"
     ]
    }
   ],
   "source": [
    "print(\"Time taken in seconds: \", difference)\n",
    "print(tagged_seq)"
   ]
  },
  {
   "cell_type": "code",
   "execution_count": 33,
   "metadata": {},
   "outputs": [],
   "source": [
    "# accuracy\n",
    "check = [i for i, j in zip(tagged_seq, test_run_base) if i == j] "
   ]
  },
  {
   "cell_type": "code",
   "execution_count": 34,
   "metadata": {},
   "outputs": [],
   "source": [
    "accuracy_plain_viterbi = len(check)/len(tagged_seq)"
   ]
  },
  {
   "cell_type": "code",
   "execution_count": 35,
   "metadata": {},
   "outputs": [
    {
     "data": {
      "text/plain": [
       "0.9081632653061225"
      ]
     },
     "execution_count": 35,
     "metadata": {},
     "output_type": "execute_result"
    }
   ],
   "source": [
    "accuracy_plain_viterbi"
   ]
  },
  {
   "cell_type": "code",
   "execution_count": 36,
   "metadata": {},
   "outputs": [],
   "source": [
    "incorrect_tagged_cases_plain_viterbi = [[test_run_base[i-1],j] for i, j in enumerate(zip(tagged_seq, test_run_base)) if j[0]!=j[1]]"
   ]
  },
  {
   "cell_type": "code",
   "execution_count": 37,
   "metadata": {},
   "outputs": [
    {
     "data": {
      "text/plain": [
       "[[('*-1', 'X'), (('next', 'ADJ'), ('next', 'ADP'))],\n",
       " [('lobbyists', 'NOUN'), (('as', 'ADP'), ('as', 'ADV'))],\n",
       " [('.', '.'), (('Municipal', 'NOUN'), ('Municipal', 'ADJ'))],\n",
       " [('that', 'ADP'), (('non-farm', 'X'), ('non-farm', 'ADJ'))],\n",
       " [('by', 'ADP'), (('152,000', 'X'), ('152,000', 'NUM'))],\n",
       " [('.', '.'), (('FALL', 'X'), ('FALL', 'NOUN'))],\n",
       " [('FALL', 'NOUN'), (('BALLOT', 'X'), ('BALLOT', 'NOUN'))],\n",
       " [('BALLOT', 'NOUN'), (('ISSUES', 'X'), ('ISSUES', 'NOUN'))],\n",
       " [('for', 'ADP'), (('off-year', 'X'), ('off-year', 'ADJ'))]]"
      ]
     },
     "execution_count": 37,
     "metadata": {},
     "output_type": "execute_result"
    }
   ],
   "source": [
    "incorrect_tagged_cases_plain_viterbi"
   ]
  },
  {
   "cell_type": "markdown",
   "metadata": {},
   "source": [
    "#### Checking for the data given to us"
   ]
  },
  {
   "cell_type": "code",
   "execution_count": 38,
   "metadata": {},
   "outputs": [
    {
     "name": "stdout",
     "output_type": "stream",
     "text": [
      "['Android is a mobile operating system developed by Google.\\n', 'Android has been the best-selling OS worldwide on smartphones since 2011 and on tablets since 2013.\\n', \"Google and Twitter made a deal in 2015 that gave Google access to Twitter's firehose.\\n\", 'Twitter is an online news and social networking service on which users post and interact with messages known as tweets.\\n', 'Before entering politics, Donald Trump was a domineering businessman and a television personality.\\n', 'The 2018 FIFA World Cup is the 21st FIFA World Cup, an international football tournament contested once every four years.\\n', 'This is the first World Cup to be held in Eastern Europe and the 11th time that it has been held in Europe.\\n', 'Show me the cheapest round trips from Dallas to Atlanta\\n', 'I would like to see flights from Denver to Philadelphia.\\n', 'Show me the price of the flights leaving Atlanta at about 3 in the afternoon and arriving in San Francisco.\\n', 'NASA invited social media users to experience the launch of ICESAT-2 Satellite.\\n', '\\n', '\\n', '\\n']\n"
     ]
    }
   ],
   "source": [
    "content = ['Android is a mobile operating system developed by Google.\\n',\n",
    "           'Android has been the best-selling OS worldwide on smartphones since 2011 and on tablets since 2013.\\n',\n",
    "           \"Google and Twitter made a deal in 2015 that gave Google access to Twitter's firehose.\\n\",\n",
    "           'Twitter is an online news and social networking service on which users post and interact with messages known as tweets.\\n',\n",
    "           'Before entering politics, Donald Trump was a domineering businessman and a television personality.\\n',\n",
    "           'The 2018 FIFA World Cup is the 21st FIFA World Cup, an international football tournament contested once every four years.\\n', \n",
    "           'This is the first World Cup to be held in Eastern Europe and the 11th time that it has been held in Europe.\\n',\n",
    "           'Show me the cheapest round trips from Dallas to Atlanta\\n',\n",
    "           'I would like to see flights from Denver to Philadelphia.\\n',\n",
    "           'Show me the price of the flights leaving Atlanta at about 3 in the afternoon and arriving in San Francisco.\\n',\n",
    "           'NASA invited social media users to experience the launch of ICESAT-2 Satellite.\\n', '\\n', '\\n', '\\n']\n",
    "print(content)"
   ]
  },
  {
   "cell_type": "code",
   "execution_count": 39,
   "metadata": {},
   "outputs": [
    {
     "name": "stdout",
     "output_type": "stream",
     "text": [
      "Android is a mobile operating system developed by Google.\n",
      "Android has been the best-selling OS worldwide on smartphones since 2011 and on tablets since 2013.\n",
      "Google and Twitter made a deal in 2015 that gave Google access to Twitter's firehose.\n",
      "Twitter is an online news and social networking service on which users post and interact with messages known as tweets.\n",
      "Before entering politics, Donald Trump was a domineering businessman and a television personality.\n",
      "The 2018 FIFA World Cup is the 21st FIFA World Cup, an international football tournament contested once every four years.\n",
      "This is the first World Cup to be held in Eastern Europe and the 11th time that it has been held in Europe.\n",
      "Show me the cheapest round trips from Dallas to Atlanta\n",
      "I would like to see flights from Denver to Philadelphia.\n",
      "Show me the price of the flights leaving Atlanta at about 3 in the afternoon and arriving in San Francisco.\n",
      "NASA invited social media users to experience the launch of ICESAT-2 Satellite.\n"
     ]
    }
   ],
   "source": [
    "# Reading data line by line\n",
    "for line in content:\n",
    "    if line != '\\n':\n",
    "        print(line.strip())"
   ]
  },
  {
   "cell_type": "markdown",
   "metadata": {},
   "source": [
    "#### We can test our tokenizer and Viterbi alogorithm on the sample data.\n",
    "#### We will create a function for that"
   ]
  },
  {
   "cell_type": "code",
   "execution_count": 40,
   "metadata": {},
   "outputs": [],
   "source": [
    "def sample_test(data):  \n",
    "    words = word_tokenize(data.strip())\n",
    "    start = time.time()\n",
    "    tagged_seq = Viterbi(words)\n",
    "    end = time.time()\n",
    "    difference = end-start\n",
    "    return (tagged_seq,difference)"
   ]
  },
  {
   "cell_type": "markdown",
   "metadata": {},
   "source": [
    "#### Testing the Viterbi algorithm on sample data"
   ]
  },
  {
   "cell_type": "code",
   "execution_count": 41,
   "metadata": {},
   "outputs": [
    {
     "name": "stdout",
     "output_type": "stream",
     "text": [
      "([('Android', 'X'), ('is', 'VERB'), ('a', 'DET'), ('mobile', 'ADJ'), ('operating', 'NOUN'), ('system', 'NOUN'), ('developed', 'VERB'), ('by', 'ADP'), ('Google', 'X'), ('.', '.')], 1.825071096420288)\n",
      "\n",
      "\n",
      "([('Android', 'X'), ('has', 'VERB'), ('been', 'VERB'), ('the', 'DET'), ('best-selling', 'ADJ'), ('OS', 'X'), ('worldwide', 'X'), ('on', 'ADP'), ('smartphones', 'X'), ('since', 'ADP'), ('2011', 'X'), ('and', 'CONJ'), ('on', 'ADP'), ('tablets', 'NOUN'), ('since', 'ADP'), ('2013', 'X'), ('.', '.')], 3.2064239978790283)\n",
      "\n",
      "\n",
      "([('Google', 'X'), ('and', 'CONJ'), ('Twitter', 'X'), ('made', 'VERB'), ('a', 'DET'), ('deal', 'NOUN'), ('in', 'ADP'), ('2015', 'X'), ('that', 'ADP'), ('gave', 'VERB'), ('Google', 'X'), ('access', 'NOUN'), ('to', 'PRT'), ('Twitter', 'X'), (\"'s\", 'PRT'), ('firehose', 'X'), ('.', '.')], 3.7409746646881104)\n",
      "\n",
      "\n",
      "([('Twitter', 'X'), ('is', 'VERB'), ('an', 'DET'), ('online', 'X'), ('news', 'NOUN'), ('and', 'CONJ'), ('social', 'ADJ'), ('networking', 'NOUN'), ('service', 'NOUN'), ('on', 'ADP'), ('which', 'DET'), ('users', 'NOUN'), ('post', 'NOUN'), ('and', 'CONJ'), ('interact', 'X'), ('with', 'ADP'), ('messages', 'X'), ('known', 'VERB'), ('as', 'ADP'), ('tweets', 'X'), ('.', '.')], 4.261632442474365)\n",
      "\n",
      "\n",
      "([('Before', 'ADP'), ('entering', 'VERB'), ('politics', 'NOUN'), (',', '.'), ('Donald', 'NOUN'), ('Trump', 'NOUN'), ('was', 'VERB'), ('a', 'DET'), ('domineering', 'X'), ('businessman', 'NOUN'), ('and', 'CONJ'), ('a', 'DET'), ('television', 'NOUN'), ('personality', 'X'), ('.', '.')], 2.945125102996826)\n",
      "\n",
      "\n",
      "([('The', 'DET'), ('2018', 'X'), ('FIFA', 'X'), ('World', 'NOUN'), ('Cup', 'X'), ('is', 'VERB'), ('the', 'DET'), ('21st', 'X'), ('FIFA', 'X'), ('World', 'NOUN'), ('Cup', 'X'), (',', '.'), ('an', 'DET'), ('international', 'ADJ'), ('football', 'NOUN'), ('tournament', 'X'), ('contested', 'X'), ('once', 'ADV'), ('every', 'DET'), ('four', 'NUM'), ('years', 'NOUN'), ('.', '.')], 4.828981876373291)\n",
      "\n",
      "\n",
      "([('This', 'DET'), ('is', 'VERB'), ('the', 'DET'), ('first', 'ADJ'), ('World', 'NOUN'), ('Cup', 'X'), ('to', 'PRT'), ('be', 'VERB'), ('held', 'VERB'), ('in', 'ADP'), ('Eastern', 'NOUN'), ('Europe', 'NOUN'), ('and', 'CONJ'), ('the', 'DET'), ('11th', 'ADJ'), ('time', 'NOUN'), ('that', 'ADP'), ('it', 'PRON'), ('has', 'VERB'), ('been', 'VERB'), ('held', 'VERB'), ('in', 'ADP'), ('Europe', 'NOUN'), ('.', '.')], 5.341720342636108)\n",
      "\n",
      "\n",
      "([('Show', 'NOUN'), ('me', 'PRON'), ('the', 'DET'), ('cheapest', 'ADJ'), ('round', 'NOUN'), ('trips', 'X'), ('from', 'ADP'), ('Dallas', 'NOUN'), ('to', 'PRT'), ('Atlanta', 'NOUN')], 1.9747223854064941)\n",
      "\n",
      "\n",
      "([('I', 'PRON'), ('would', 'VERB'), ('like', 'ADP'), ('to', 'PRT'), ('see', 'VERB'), ('flights', 'NOUN'), ('from', 'ADP'), ('Denver', 'NOUN'), ('to', 'PRT'), ('Philadelphia', 'NOUN'), ('.', '.')], 2.2480499744415283)\n",
      "\n",
      "\n",
      "([('Show', 'NOUN'), ('me', 'PRON'), ('the', 'DET'), ('price', 'NOUN'), ('of', 'ADP'), ('the', 'DET'), ('flights', 'NOUN'), ('leaving', 'VERB'), ('Atlanta', 'NOUN'), ('at', 'ADP'), ('about', 'ADP'), ('3', 'NUM'), ('in', 'ADP'), ('the', 'DET'), ('afternoon', 'NOUN'), ('and', 'CONJ'), ('arriving', 'X'), ('in', 'ADP'), ('San', 'NOUN'), ('Francisco', 'NOUN'), ('.', '.')], 4.266091346740723)\n",
      "\n",
      "\n",
      "([('NASA', 'X'), ('invited', 'X'), ('social', 'ADJ'), ('media', 'NOUN'), ('users', 'NOUN'), ('to', 'PRT'), ('experience', 'NOUN'), ('the', 'DET'), ('launch', 'NOUN'), ('of', 'ADP'), ('ICESAT-2', 'X'), ('Satellite', 'X'), ('.', '.')], 2.7875046730041504)\n",
      "\n",
      "\n"
     ]
    }
   ],
   "source": [
    "for sentence_test in content:\n",
    "    if sentence_test != '\\n':\n",
    "        print(sample_test(sentence_test))\n",
    "        print('\\n')"
   ]
  },
  {
   "cell_type": "markdown",
   "metadata": {},
   "source": [
    "#### We observe that the words like Android, Google etc. are not tagged correctly"
   ]
  },
  {
   "cell_type": "markdown",
   "metadata": {},
   "source": [
    "#### Creating groups of the data from above except the stopwords and storing in a list"
   ]
  },
  {
   "cell_type": "code",
   "execution_count": 42,
   "metadata": {},
   "outputs": [],
   "source": [
    "## Taking all the words excecpt stopwords in a list \n",
    "group = []\n",
    "for line in content:\n",
    "    if line != '\\n':\n",
    "        group.extend([word for word in line.split() if word not in stopwords.words('english')])\n",
    "        group = list(set(group))"
   ]
  },
  {
   "cell_type": "markdown",
   "metadata": {},
   "source": [
    "#### We will check which tags are attached to different words"
   ]
  },
  {
   "cell_type": "code",
   "execution_count": 43,
   "metadata": {
    "scrolled": false
   },
   "outputs": [],
   "source": [
    "## Function to attach tags to the relant words from the sample content\n",
    "def attached_tags_old(data, group):\n",
    "    dic = dict()\n",
    "    for sentence_test in content:\n",
    "        if sentence_test != '\\n':\n",
    "            tagged_sen = sample_test(sentence_test)\n",
    "            for i in tagged_sen[0]:\n",
    "                if (i[0] in group):\n",
    "                    dic[i[0]] =  i[1]\n",
    "    return dic,Counter(dic.values())\n"
   ]
  },
  {
   "cell_type": "markdown",
   "metadata": {},
   "source": [
    "#### Getting the words and the tags frequecy"
   ]
  },
  {
   "cell_type": "code",
   "execution_count": 44,
   "metadata": {
    "scrolled": true
   },
   "outputs": [],
   "source": [
    "words, counts = attached_tags_old(content,group)"
   ]
  },
  {
   "cell_type": "code",
   "execution_count": 45,
   "metadata": {},
   "outputs": [
    {
     "name": "stdout",
     "output_type": "stream",
     "text": [
      "{'Android': 'X', 'mobile': 'ADJ', 'operating': 'NOUN', 'system': 'NOUN', 'developed': 'VERB', 'Google': 'X', 'best-selling': 'ADJ', 'OS': 'X', 'worldwide': 'X', 'smartphones': 'X', 'since': 'ADP', '2011': 'X', 'tablets': 'NOUN', 'Twitter': 'X', 'made': 'VERB', 'deal': 'NOUN', '2015': 'X', 'gave': 'VERB', 'access': 'NOUN', 'online': 'X', 'news': 'NOUN', 'social': 'ADJ', 'networking': 'NOUN', 'service': 'NOUN', 'users': 'NOUN', 'post': 'NOUN', 'interact': 'X', 'messages': 'X', 'known': 'VERB', 'Before': 'ADP', 'entering': 'VERB', 'Donald': 'NOUN', 'Trump': 'NOUN', 'domineering': 'X', 'businessman': 'NOUN', 'television': 'NOUN', 'The': 'DET', '2018': 'X', 'FIFA': 'X', 'World': 'NOUN', 'Cup': 'X', '21st': 'X', 'international': 'ADJ', 'football': 'NOUN', 'tournament': 'X', 'contested': 'X', 'every': 'DET', 'four': 'NUM', 'This': 'DET', 'first': 'ADJ', 'held': 'VERB', 'Eastern': 'NOUN', 'Europe': 'NOUN', '11th': 'ADJ', 'time': 'NOUN', 'Show': 'NOUN', 'cheapest': 'ADJ', 'round': 'NOUN', 'trips': 'X', 'Dallas': 'NOUN', 'Atlanta': 'NOUN', 'I': 'PRON', 'would': 'VERB', 'like': 'ADP', 'see': 'VERB', 'flights': 'NOUN', 'Denver': 'NOUN', 'price': 'NOUN', 'leaving': 'VERB', '3': 'NUM', 'afternoon': 'NOUN', 'arriving': 'X', 'San': 'NOUN', 'NASA': 'X', 'invited': 'X', 'media': 'NOUN', 'experience': 'NOUN', 'launch': 'NOUN', 'ICESAT-2': 'X'}\n"
     ]
    }
   ],
   "source": [
    "print(words)"
   ]
  },
  {
   "cell_type": "code",
   "execution_count": 46,
   "metadata": {},
   "outputs": [
    {
     "data": {
      "text/plain": [
       "Counter({'X': 23,\n",
       "         'ADJ': 7,\n",
       "         'NOUN': 31,\n",
       "         'VERB': 9,\n",
       "         'ADP': 3,\n",
       "         'DET': 3,\n",
       "         'NUM': 2,\n",
       "         'PRON': 1})"
      ]
     },
     "execution_count": 46,
     "metadata": {},
     "output_type": "execute_result"
    }
   ],
   "source": [
    "counts"
   ]
  },
  {
   "cell_type": "markdown",
   "metadata": {},
   "source": [
    "#### Sorting by descending"
   ]
  },
  {
   "cell_type": "code",
   "execution_count": 47,
   "metadata": {},
   "outputs": [],
   "source": [
    "counts = dict(sorted(counts.items(), key=operator.itemgetter(1),reverse=True))"
   ]
  },
  {
   "cell_type": "markdown",
   "metadata": {},
   "source": [
    "#### Visualizing the data"
   ]
  },
  {
   "cell_type": "code",
   "execution_count": 48,
   "metadata": {},
   "outputs": [],
   "source": [
    "def data_pattern(data):\n",
    "    keys = list(data.keys())\n",
    "    vals = [int(data[k]) for k in keys]\n",
    "    plt.figure(figsize=(12, 6))\n",
    "    splot= sns.barplot(x=keys, y=vals)\n",
    "    for p in splot.patches:\n",
    "        splot.annotate(p.get_height(), \n",
    "                       (p.get_x() + p.get_width() / 2, p.get_height()), \n",
    "                       ha = 'center', va = 'center', \n",
    "                       xytext = (0, 9), \n",
    "                       textcoords = 'offset points')\n",
    "    plt.suptitle('Distribution of tags in the data', fontsize = 14)\n",
    "    plt.xlabel(\"POS Tags\", size=14)\n",
    "    plt.ylabel(\"Count\", size=14)\n",
    "    plt.show()"
   ]
  },
  {
   "cell_type": "markdown",
   "metadata": {},
   "source": [
    "#### Checking the distribution"
   ]
  },
  {
   "cell_type": "code",
   "execution_count": 49,
   "metadata": {},
   "outputs": [
    {
     "data": {
      "image/png": "[encoded data removed]",
      "text/plain": [
       "<Figure size 864x432 with 1 Axes>"
      ]
     },
     "metadata": {
      "needs_background": "light"
     },
     "output_type": "display_data"
    }
   ],
   "source": [
    "data_pattern(counts)"
   ]
  },
  {
   "cell_type": "markdown",
   "metadata": {},
   "source": [
    "#### We can see the tagging and Viterbi algorithm are in working condition"
   ]
  },
  {
   "cell_type": "markdown",
   "metadata": {},
   "source": [
    "#### Our next goal is to solve the problem of unknown words using __at least two techniques__"
   ]
  },
  {
   "cell_type": "code",
   "execution_count": null,
   "metadata": {},
   "outputs": [],
   "source": []
  },
  {
   "cell_type": "markdown",
   "metadata": {},
   "source": [
    "## Solve the problem of unknown words"
   ]
  },
  {
   "cell_type": "markdown",
   "metadata": {},
   "source": [
    "#### We can use lexicon, rule-based, probabilistic etc"
   ]
  },
  {
   "cell_type": "markdown",
   "metadata": {},
   "source": [
    "#### We will try these two techniques one by one\n",
    "1. Using lexical techniques in the data and check accuracy\n",
    "2. Tagging unknown words and checking accuracy"
   ]
  },
  {
   "cell_type": "markdown",
   "metadata": {},
   "source": [
    "### Technique 1:"
   ]
  },
  {
   "cell_type": "markdown",
   "metadata": {},
   "source": [
    "#### We will first start with Lexical techniques\n",
    "- First we will start with Unigram Tagger\n",
    "- Then we will perform Bigram Tagger with unigram as backoff\n",
    "- Lastly, we will perform trigram tagger with bigram as backoff"
   ]
  },
  {
   "cell_type": "code",
   "execution_count": null,
   "metadata": {},
   "outputs": [],
   "source": []
  },
  {
   "cell_type": "markdown",
   "metadata": {},
   "source": [
    "### 5. Lexicon (Unigram) Tagger\n",
    "\n",
    "Let's now try training a lexicon (or a unigram) tagger which assigns the most commonly assigned tag to a word. \n",
    "\n",
    "In NLTK, the `UnigramTagger()`  can be used to train such a model."
   ]
  },
  {
   "cell_type": "markdown",
   "metadata": {},
   "source": [
    "### 5.1. UnigramTagger"
   ]
  },
  {
   "cell_type": "code",
   "execution_count": 50,
   "metadata": {},
   "outputs": [
    {
     "data": {
      "text/plain": [
       "0.904978269458712"
      ]
     },
     "execution_count": 50,
     "metadata": {},
     "output_type": "execute_result"
    }
   ],
   "source": [
    "# Lexicon (or unigram tagger)\n",
    "unigram_tagger = nltk.UnigramTagger(train_set)\n",
    "accuracy_unigram_tagger = unigram_tagger.evaluate(test_set)\n",
    "accuracy_unigram_tagger"
   ]
  },
  {
   "cell_type": "markdown",
   "metadata": {},
   "source": [
    "Even a simple unigram tagger seems to perform fairly well. "
   ]
  },
  {
   "cell_type": "markdown",
   "metadata": {},
   "source": [
    "### 5.2. Rule-Based (Regular Expression) Tagger\n",
    "\n",
    "Now let's build a rule-based, or regular expression based tagger. In NLTK, the `RegexpTagger()` can be provided with handwritten regular expression patterns, as shown below.\n",
    "\n",
    "In the example below, we specify regexes for gerunds and past tense verbs (as seen above), 3rd singular present verb (creates, moves, makes etc.), modal verbs MD (should, would, could), possesive nouns (partner's, bank's etc.), plural nouns (banks, institutions), cardinal numbers CD and finally, if none of the above rules are applicable to a word, we tag the most frequent tag NN.  "
   ]
  },
  {
   "cell_type": "code",
   "execution_count": 51,
   "metadata": {},
   "outputs": [],
   "source": [
    "# specify patterns for tagging\n",
    "# example from the NLTK book\n",
    "patterns = [\n",
    "    (r'.*ing$', 'VBG'),              # gerund\n",
    "    (r'.*ed$', 'VBD'),               # past tense\n",
    "    (r'.*es$', 'VBZ'),               # 3rd singular present\n",
    "    (r'.*ould$', 'MD'),              # modals\n",
    "    (r'.*\\'s$', 'NN$'),              # possessive nouns\n",
    "    (r'.*s$', 'NNS'),                # plural nouns\n",
    "    (r'^-?[0-9]+(.[0-9]+)?$', 'CD'), # cardinal numbers\n",
    "    (r'.*', 'NN')                    # nouns\n",
    "]"
   ]
  },
  {
   "cell_type": "markdown",
   "metadata": {},
   "source": [
    "### 5.3. Combining Taggers\n",
    "\n",
    "Let's now try combining the taggers created above. We saw that the rule-based tagger by itself is quite ineffective since we've only written a handful of rules. However, if we could combine the lexicon and the rule-based tagger, we can potentially create a tagger much better than any of the individual ones.\n",
    "\n",
    "NLTK provides a convenient way to combine taggers using the 'backup' argument. In the following code, we create a regex tagger which is used as a backup tagger to the lexicon tagger, i.e. when the tagger is not able to tag using the lexicon (in case of a new word not in the vocabulary), it uses the rule-based tagger. \n",
    "\n",
    "Also, note that the rule-based tagger itself is backed up by the tag 'NN'.\n"
   ]
  },
  {
   "cell_type": "code",
   "execution_count": 52,
   "metadata": {},
   "outputs": [
    {
     "data": {
      "text/plain": [
       "0.904978269458712"
      ]
     },
     "execution_count": 52,
     "metadata": {},
     "output_type": "execute_result"
    }
   ],
   "source": [
    "# rule based tagger\n",
    "rule_based_tagger = nltk.RegexpTagger(patterns)\n",
    "\n",
    "# lexicon backed up by the rule-based tagger\n",
    "lexicon_tagger = nltk.UnigramTagger(train_set, backoff=rule_based_tagger)\n",
    "\n",
    "accuracy_lexicon_tagger = lexicon_tagger.evaluate(test_set)\n",
    "accuracy_lexicon_tagger"
   ]
  },
  {
   "cell_type": "markdown",
   "metadata": {},
   "source": [
    "#### The accuracy has not improved much"
   ]
  },
  {
   "cell_type": "markdown",
   "metadata": {},
   "source": [
    "### 5.4. Bigram Tagger\n",
    "\n",
    "Let's now try training a bigram tagger.\n",
    "\n",
    "In NLTK, the `BigramTagger()`  can be used to train such a model."
   ]
  },
  {
   "cell_type": "code",
   "execution_count": 53,
   "metadata": {},
   "outputs": [
    {
     "data": {
      "text/plain": [
       "0.9067562228368234"
      ]
     },
     "execution_count": 53,
     "metadata": {},
     "output_type": "execute_result"
    }
   ],
   "source": [
    "# Bigram Tagger\n",
    "bigram_tagger = nltk.BigramTagger(train_set,backoff = lexicon_tagger)\n",
    "accuracy_bigram_tagger = bigram_tagger.evaluate(test_set)\n",
    "accuracy_bigram_tagger"
   ]
  },
  {
   "cell_type": "markdown",
   "metadata": {},
   "source": [
    "#### There is not much improvement. Let's try further"
   ]
  },
  {
   "cell_type": "markdown",
   "metadata": {},
   "source": [
    "### 5.5. Trigram Tagger\n",
    "\n",
    "Let's now try training a trigram tagger.\n",
    "\n",
    "In NLTK, the `TrigramTagger()`  can be used to train such a model."
   ]
  },
  {
   "cell_type": "code",
   "execution_count": 54,
   "metadata": {},
   "outputs": [
    {
     "data": {
      "text/plain": [
       "0.9069537732121691"
      ]
     },
     "execution_count": 54,
     "metadata": {},
     "output_type": "execute_result"
    }
   ],
   "source": [
    "# Bigram Tagger\n",
    "trigram_tagger = nltk.TrigramTagger(train_set,backoff = bigram_tagger)\n",
    "trigram_tagger.evaluate(test_set)"
   ]
  },
  {
   "cell_type": "code",
   "execution_count": 55,
   "metadata": {
    "scrolled": true
   },
   "outputs": [
    {
     "name": "stdout",
     "output_type": "stream",
     "text": [
      "{'X', 'NUM', 'DET', 'ADJ', 'CONJ', 'ADV', 'PRON', 'NOUN', 'ADP', '.', 'VERB', 'PRT'}\n"
     ]
    }
   ],
   "source": [
    "print(T)"
   ]
  },
  {
   "cell_type": "markdown",
   "metadata": {},
   "source": [
    "#### There is only slight improvement in the accuracy\n",
    "#### We need to improve on  this and so, we will apply second technique"
   ]
  },
  {
   "cell_type": "code",
   "execution_count": null,
   "metadata": {},
   "outputs": [],
   "source": []
  },
  {
   "cell_type": "markdown",
   "metadata": {},
   "source": [
    "### Technique 2:"
   ]
  },
  {
   "cell_type": "markdown",
   "metadata": {},
   "source": [
    "#### Now to build this into viterbi, need to change the regex patterns to fit for the tags in our data (NOUN instead of NNS etc)"
   ]
  },
  {
   "cell_type": "markdown",
   "metadata": {},
   "source": [
    "#### Function for rule based tragram tagger"
   ]
  },
  {
   "cell_type": "code",
   "execution_count": 56,
   "metadata": {},
   "outputs": [],
   "source": [
    "def trigram_tagger(word,train_set = train_set):\n",
    "    patterns1 = [\n",
    "    (r'.*ing$', 'VERB'),              # gerund\n",
    "    (r'.*ed$', 'VERB'),               # past tense\n",
    "    (r'.*es$', 'VERB'),               # 3rd singular present\n",
    "    (r'.*ould$', 'X'),                # modals\n",
    "    (r'.*\\'s$', 'NOUN'),              # possessive nouns\n",
    "    (r'.*s$', 'NOUN'),                # plural nouns\n",
    "    (r'^-?[0-9]+(.[0-9]+)?$', 'NUM'), # cardinal numbers\n",
    "    (r'.*', 'NOUN')                    # nouns\n",
    "    ]\n",
    "    regex_based_tagger = nltk.RegexpTagger(patterns1)\n",
    "\n",
    "    # trigram backed up by the regex tagger\n",
    "    trigram_regex_tagger = nltk.TrigramTagger(train_set, backoff=regex_based_tagger)\n",
    "    return trigram_regex_tagger.tag_sents([[(word)]])"
   ]
  },
  {
   "cell_type": "markdown",
   "metadata": {},
   "source": [
    "#### Function for modified viterbi"
   ]
  },
  {
   "cell_type": "code",
   "execution_count": 57,
   "metadata": {},
   "outputs": [],
   "source": [
    "# viterbi with handling for unknown words from regex tagger\n",
    "\n",
    "def Viterbi_modified(words, train_bag = train_tagged_words):\n",
    "    state = []\n",
    "    T = list(set([pair[1] for pair in train_bag]))\n",
    "    \n",
    "    for key, word in enumerate(words):\n",
    "        # unknown words from trigram taggr\n",
    "        if word not in tokens:\n",
    "            unk_word_tag=trigram_tagger(word)\n",
    "            for sent in unk_word_tag:\n",
    "                for tup in sent:\n",
    "                    state.append(tup[1])\n",
    "        # rest remains same            \n",
    "        else:            \n",
    "            p = [] \n",
    "            for tag in T:\n",
    "                if key == 0:\n",
    "                    transition_p = tags_df.loc['.', tag]\n",
    "                else:\n",
    "                    transition_p = tags_df.loc[state[-1], tag]\n",
    "                \n",
    "            # compute emission and state probabilities\n",
    "                emission_p = word_given_tag(words[key], tag)[0]/word_given_tag(words[key], tag)[1]\n",
    "                state_probability = emission_p * transition_p    \n",
    "                p.append(state_probability)\n",
    "            \n",
    "            pmax = max(p)\n",
    "            # getting state for which probability is maximum\n",
    "            state_max = T[p.index(pmax)] \n",
    "            state.append(state_max)\n",
    "            \n",
    "    return list(zip(words, state))"
   ]
  },
  {
   "cell_type": "code",
   "execution_count": 58,
   "metadata": {
    "scrolled": true
   },
   "outputs": [
    {
     "data": {
      "text/plain": [
       "['Mr.',\n",
       " 'Samnick',\n",
       " 'said',\n",
       " '0',\n",
       " 'a',\n",
       " 'guild',\n",
       " 'disciplinary',\n",
       " 'hearing',\n",
       " 'is',\n",
       " 'scheduled',\n",
       " '*-1',\n",
       " 'next',\n",
       " 'Monday',\n",
       " 'in',\n",
       " 'New',\n",
       " 'York',\n",
       " '.',\n",
       " 'The',\n",
       " 'Democrat',\n",
       " \"'s\",\n",
       " 'proposal',\n",
       " 'is',\n",
       " 'described',\n",
       " '*-1',\n",
       " 'by',\n",
       " 'government',\n",
       " 'sources',\n",
       " 'and',\n",
       " 'lobbyists',\n",
       " 'as',\n",
       " 'significantly',\n",
       " 'weaker',\n",
       " 'than',\n",
       " 'the',\n",
       " 'president',\n",
       " \"'s\",\n",
       " 'plan',\n",
       " '*',\n",
       " 'to',\n",
       " 'cut',\n",
       " 'utility',\n",
       " 'emissions',\n",
       " '.',\n",
       " 'Municipal',\n",
       " 'bonds',\n",
       " 'were',\n",
       " 'mostly',\n",
       " 'unchanged',\n",
       " 'to',\n",
       " 'up',\n",
       " '1\\\\/8',\n",
       " 'point',\n",
       " 'in',\n",
       " 'light',\n",
       " ',',\n",
       " 'cautious',\n",
       " 'trading',\n",
       " 'prior',\n",
       " 'to',\n",
       " 'tomorrow',\n",
       " \"'s\",\n",
       " 'unemployment',\n",
       " 'report',\n",
       " '.',\n",
       " 'The',\n",
       " 'average',\n",
       " 'estimate',\n",
       " 'of',\n",
       " '22',\n",
       " 'economists',\n",
       " 'polled',\n",
       " '*',\n",
       " 'by',\n",
       " 'Dow',\n",
       " 'Jones',\n",
       " 'Capital',\n",
       " 'Markets',\n",
       " 'Report',\n",
       " 'was',\n",
       " 'that',\n",
       " 'non-farm',\n",
       " 'payrolls',\n",
       " 'expanded',\n",
       " 'by',\n",
       " '152,000',\n",
       " 'in',\n",
       " 'October',\n",
       " '.',\n",
       " 'FALL',\n",
       " 'BALLOT',\n",
       " 'ISSUES',\n",
       " 'set',\n",
       " 'a',\n",
       " 'record',\n",
       " 'for',\n",
       " 'off-year',\n",
       " 'elections',\n",
       " '.']"
      ]
     },
     "execution_count": 58,
     "metadata": {},
     "output_type": "execute_result"
    }
   ],
   "source": [
    "test_run_base = [tup for sent in test_run for tup in sent]\n",
    "\n",
    "# list of tagged words\n",
    "test_tagged_words = [tup[0] for sent in test_run for tup in sent]\n",
    "test_tagged_words"
   ]
  },
  {
   "cell_type": "markdown",
   "metadata": {},
   "source": [
    "#### Evaluating tagging accuracy"
   ]
  },
  {
   "cell_type": "code",
   "execution_count": 59,
   "metadata": {},
   "outputs": [],
   "source": [
    "# tagging the test sentences\n",
    "start = time.time()\n",
    "tagged_seq_modified = Viterbi_modified(test_tagged_words)\n",
    "end = time.time()\n",
    "difference = end-start"
   ]
  },
  {
   "cell_type": "code",
   "execution_count": 60,
   "metadata": {
    "scrolled": true
   },
   "outputs": [
    {
     "name": "stdout",
     "output_type": "stream",
     "text": [
      "Time taken in seconds:  33.725807905197144\n",
      "[('Mr.', 'NOUN'), ('Samnick', 'NOUN'), ('said', 'VERB'), ('0', 'X'), ('a', 'DET'), ('guild', 'NOUN'), ('disciplinary', 'ADJ'), ('hearing', 'NOUN'), ('is', 'VERB'), ('scheduled', 'VERB'), ('*-1', 'X'), ('next', 'ADJ'), ('Monday', 'NOUN'), ('in', 'ADP'), ('New', 'NOUN'), ('York', 'NOUN'), ('.', '.'), ('The', 'DET'), ('Democrat', 'NOUN'), (\"'s\", 'PRT'), ('proposal', 'NOUN'), ('is', 'VERB'), ('described', 'VERB'), ('*-1', 'X'), ('by', 'ADP'), ('government', 'NOUN'), ('sources', 'NOUN'), ('and', 'CONJ'), ('lobbyists', 'NOUN'), ('as', 'ADP'), ('significantly', 'ADV'), ('weaker', 'ADJ'), ('than', 'ADP'), ('the', 'DET'), ('president', 'NOUN'), (\"'s\", 'PRT'), ('plan', 'NOUN'), ('*', 'X'), ('to', 'PRT'), ('cut', 'VERB'), ('utility', 'NOUN'), ('emissions', 'NOUN'), ('.', '.'), ('Municipal', 'NOUN'), ('bonds', 'NOUN'), ('were', 'VERB'), ('mostly', 'ADV'), ('unchanged', 'ADJ'), ('to', 'PRT'), ('up', 'ADV'), ('1\\\\/8', 'NUM'), ('point', 'NOUN'), ('in', 'ADP'), ('light', 'ADJ'), (',', '.'), ('cautious', 'ADJ'), ('trading', 'NOUN'), ('prior', 'ADV'), ('to', 'PRT'), ('tomorrow', 'NOUN'), (\"'s\", 'PRT'), ('unemployment', 'NOUN'), ('report', 'NOUN'), ('.', '.'), ('The', 'DET'), ('average', 'ADJ'), ('estimate', 'NOUN'), ('of', 'ADP'), ('22', 'NUM'), ('economists', 'NOUN'), ('polled', 'VERB'), ('*', 'X'), ('by', 'ADP'), ('Dow', 'NOUN'), ('Jones', 'NOUN'), ('Capital', 'NOUN'), ('Markets', 'NOUN'), ('Report', 'NOUN'), ('was', 'VERB'), ('that', 'ADP'), ('non-farm', 'NOUN'), ('payrolls', 'NOUN'), ('expanded', 'VERB'), ('by', 'ADP'), ('152,000', 'NUM'), ('in', 'ADP'), ('October', 'NOUN'), ('.', '.'), ('FALL', 'NOUN'), ('BALLOT', 'NOUN'), ('ISSUES', 'NOUN'), ('set', 'VERB'), ('a', 'DET'), ('record', 'NOUN'), ('for', 'ADP'), ('off-year', 'NOUN'), ('elections', 'NOUN'), ('.', '.')]\n"
     ]
    }
   ],
   "source": [
    "print(\"Time taken in seconds: \", difference)\n",
    "print(tagged_seq_modified)"
   ]
  },
  {
   "cell_type": "code",
   "execution_count": 61,
   "metadata": {},
   "outputs": [
    {
     "data": {
      "text/plain": [
       "0.9489795918367347"
      ]
     },
     "execution_count": 61,
     "metadata": {},
     "output_type": "execute_result"
    }
   ],
   "source": [
    "# accuracy\n",
    "check1 = [i for i, j in zip(tagged_seq_modified, test_run_base) if i == j]\n",
    "accuracy_viterbi_modified = len(check1)/len(tagged_seq_modified)\n",
    "accuracy_viterbi_modified"
   ]
  },
  {
   "cell_type": "markdown",
   "metadata": {},
   "source": [
    "### Compare the tagging accuracies of the modifications with the vanilla Viterbi algorithm"
   ]
  },
  {
   "cell_type": "markdown",
   "metadata": {},
   "source": [
    "#### Creating a function to compare accuracy"
   ]
  },
  {
   "cell_type": "code",
   "execution_count": 62,
   "metadata": {},
   "outputs": [],
   "source": [
    "def compare_accuracy():\n",
    "    keys = ['accuracy_plain_viterbi','accuracy_lexicon_tagger','accuracy_unigram_tagger','accuracy_bigram_tagger','accuracy_viterbi_modified']\n",
    "    vals = [accuracy_plain_viterbi,accuracy_lexicon_tagger,accuracy_unigram_tagger,accuracy_bigram_tagger,accuracy_viterbi_modified]\n",
    "    plt.figure(figsize=(14, 7))\n",
    "    splot= sns.barplot(x=keys, y=vals)\n",
    "    for p in splot.patches:\n",
    "        splot.annotate(format(p.get_height()*100, '.3f'), \n",
    "                       (p.get_x() + p.get_width() / 2, p.get_height()), \n",
    "                       ha = 'center', va = 'center', \n",
    "                       xytext = (0, 9), \n",
    "                       textcoords = 'offset points')\n",
    "    plt.suptitle('Accuracy for different models', fontsize = 14)\n",
    "    plt.xlabel(\"Model\", size=14)\n",
    "    plt.ylabel(\"Accuracy\", size=14)\n",
    "    plt.show()"
   ]
  },
  {
   "cell_type": "markdown",
   "metadata": {},
   "source": [
    "#### Checking accuracies for different models"
   ]
  },
  {
   "cell_type": "code",
   "execution_count": 63,
   "metadata": {},
   "outputs": [
    {
     "data": {
      "image/png": "[encoded data removed]",
      "text/plain": [
       "<Figure size 1008x504 with 1 Axes>"
      ]
     },
     "metadata": {
      "needs_background": "light"
     },
     "output_type": "display_data"
    }
   ],
   "source": [
    "compare_accuracy()"
   ]
  },
  {
   "cell_type": "markdown",
   "metadata": {},
   "source": [
    "#### We can clearly observe that the modified viterbi has th highest accuracy"
   ]
  },
  {
   "cell_type": "markdown",
   "metadata": {},
   "source": [
    "### List down cases which were incorrectly tagged by original POS tagger and got corrected by the modifications"
   ]
  },
  {
   "cell_type": "markdown",
   "metadata": {},
   "source": [
    "#### We can test our tokenizer and Viterbi alogorithm on the sample data.\n",
    "#### We will create a function for that"
   ]
  },
  {
   "cell_type": "code",
   "execution_count": 64,
   "metadata": {},
   "outputs": [],
   "source": [
    "def sample_test_modified(data):  \n",
    "    words = word_tokenize(data.strip())\n",
    "    start = time.time()\n",
    "    tagged_seq = Viterbi_modified(words)\n",
    "    end = time.time()\n",
    "    difference = end-start\n",
    "    return (tagged_seq,difference)"
   ]
  },
  {
   "cell_type": "markdown",
   "metadata": {},
   "source": [
    "####  Now, we can observe what has changed in the data from modified Viterbi"
   ]
  },
  {
   "cell_type": "code",
   "execution_count": 65,
   "metadata": {
    "scrolled": false
   },
   "outputs": [],
   "source": [
    "def attached_tags_modified(data, group):\n",
    "    dic = dict()\n",
    "    for sentence_test in content:\n",
    "        if sentence_test != '\\n':\n",
    "            tagged_sen = sample_test_modified(sentence_test)\n",
    "            for i in tagged_sen[0]:\n",
    "                if (i[0] in group):\n",
    "                    dic[i[0]] =  i[1]\n",
    "    return dic,Counter(dic.values())\n"
   ]
  },
  {
   "cell_type": "markdown",
   "metadata": {},
   "source": [
    "#### We already have the test data"
   ]
  },
  {
   "cell_type": "code",
   "execution_count": 66,
   "metadata": {},
   "outputs": [
    {
     "name": "stdout",
     "output_type": "stream",
     "text": [
      "['Android is a mobile operating system developed by Google.\\n', 'Android has been the best-selling OS worldwide on smartphones since 2011 and on tablets since 2013.\\n', \"Google and Twitter made a deal in 2015 that gave Google access to Twitter's firehose.\\n\", 'Twitter is an online news and social networking service on which users post and interact with messages known as tweets.\\n', 'Before entering politics, Donald Trump was a domineering businessman and a television personality.\\n', 'The 2018 FIFA World Cup is the 21st FIFA World Cup, an international football tournament contested once every four years.\\n', 'This is the first World Cup to be held in Eastern Europe and the 11th time that it has been held in Europe.\\n', 'Show me the cheapest round trips from Dallas to Atlanta\\n', 'I would like to see flights from Denver to Philadelphia.\\n', 'Show me the price of the flights leaving Atlanta at about 3 in the afternoon and arriving in San Francisco.\\n', 'NASA invited social media users to experience the launch of ICESAT-2 Satellite.\\n', '\\n', '\\n', '\\n']\n"
     ]
    }
   ],
   "source": [
    "print(content)"
   ]
  },
  {
   "cell_type": "code",
   "execution_count": 67,
   "metadata": {
    "scrolled": true
   },
   "outputs": [],
   "source": [
    "words_modified, counts_modified = attached_tags_modified(content,group)"
   ]
  },
  {
   "cell_type": "code",
   "execution_count": 68,
   "metadata": {
    "scrolled": true
   },
   "outputs": [
    {
     "name": "stdout",
     "output_type": "stream",
     "text": [
      "{'Android': 'NOUN', 'mobile': 'ADJ', 'operating': 'NOUN', 'system': 'NOUN', 'developed': 'VERB', 'Google': 'NOUN', 'best-selling': 'ADJ', 'OS': 'NOUN', 'worldwide': 'NOUN', 'smartphones': 'VERB', 'since': 'ADP', '2011': 'NUM', 'tablets': 'NOUN', 'Twitter': 'NOUN', 'made': 'VERB', 'deal': 'NOUN', '2015': 'NUM', 'gave': 'VERB', 'access': 'NOUN', 'online': 'NOUN', 'news': 'NOUN', 'social': 'ADJ', 'networking': 'NOUN', 'service': 'NOUN', 'users': 'NOUN', 'post': 'NOUN', 'interact': 'NOUN', 'messages': 'VERB', 'known': 'VERB', 'Before': 'ADP', 'entering': 'VERB', 'Donald': 'NOUN', 'Trump': 'NOUN', 'domineering': 'VERB', 'businessman': 'NOUN', 'television': 'NOUN', 'The': 'DET', '2018': 'NUM', 'FIFA': 'NOUN', 'World': 'NOUN', 'Cup': 'NOUN', '21st': 'NOUN', 'international': 'ADJ', 'football': 'NOUN', 'tournament': 'NOUN', 'contested': 'VERB', 'every': 'DET', 'four': 'NUM', 'This': 'DET', 'first': 'ADJ', 'held': 'VERB', 'Eastern': 'NOUN', 'Europe': 'NOUN', '11th': 'ADJ', 'time': 'NOUN', 'Show': 'NOUN', 'cheapest': 'ADJ', 'round': 'NOUN', 'trips': 'NOUN', 'Dallas': 'NOUN', 'Atlanta': 'NOUN', 'I': 'PRON', 'would': 'VERB', 'like': 'ADP', 'see': 'VERB', 'flights': 'NOUN', 'Denver': 'NOUN', 'price': 'NOUN', 'leaving': 'VERB', '3': 'NUM', 'afternoon': 'NOUN', 'arriving': 'VERB', 'San': 'NOUN', 'NASA': 'NOUN', 'invited': 'VERB', 'media': 'NOUN', 'experience': 'NOUN', 'launch': 'NOUN', 'ICESAT-2': 'NOUN'}\n"
     ]
    }
   ],
   "source": [
    "print(words_modified)"
   ]
  },
  {
   "cell_type": "markdown",
   "metadata": {},
   "source": [
    "#### We see that the words - Google, Android etc has converted to NOUN, and other tags have been corrected"
   ]
  },
  {
   "cell_type": "markdown",
   "metadata": {},
   "source": [
    "#### Checking the distribution "
   ]
  },
  {
   "cell_type": "code",
   "execution_count": 69,
   "metadata": {
    "scrolled": true
   },
   "outputs": [
    {
     "data": {
      "text/plain": [
       "{'NOUN': 31,\n",
       " 'X': 23,\n",
       " 'VERB': 9,\n",
       " 'ADJ': 7,\n",
       " 'ADP': 3,\n",
       " 'DET': 3,\n",
       " 'NUM': 2,\n",
       " 'PRON': 1}"
      ]
     },
     "execution_count": 69,
     "metadata": {},
     "output_type": "execute_result"
    }
   ],
   "source": [
    "counts"
   ]
  },
  {
   "cell_type": "code",
   "execution_count": 70,
   "metadata": {},
   "outputs": [
    {
     "data": {
      "text/plain": [
       "Counter({'NOUN': 45,\n",
       "         'ADJ': 7,\n",
       "         'VERB': 15,\n",
       "         'ADP': 3,\n",
       "         'NUM': 5,\n",
       "         'DET': 3,\n",
       "         'PRON': 1})"
      ]
     },
     "execution_count": 70,
     "metadata": {},
     "output_type": "execute_result"
    }
   ],
   "source": [
    "counts_modified"
   ]
  },
  {
   "cell_type": "markdown",
   "metadata": {},
   "source": [
    "#### Sorting the data"
   ]
  },
  {
   "cell_type": "code",
   "execution_count": 71,
   "metadata": {},
   "outputs": [],
   "source": [
    "counts_modified = dict(sorted(counts_modified.items(), key=operator.itemgetter(1),reverse=True))"
   ]
  },
  {
   "cell_type": "markdown",
   "metadata": {},
   "source": [
    "#### Visualizing the data"
   ]
  },
  {
   "cell_type": "code",
   "execution_count": 72,
   "metadata": {
    "scrolled": false
   },
   "outputs": [
    {
     "data": {
      "image/png": "[encoded data removed]",
      "text/plain": [
       "<Figure size 864x432 with 1 Axes>"
      ]
     },
     "metadata": {
      "needs_background": "light"
     },
     "output_type": "display_data"
    }
   ],
   "source": [
    "data_pattern(counts_modified)"
   ]
  },
  {
   "cell_type": "markdown",
   "metadata": {},
   "source": [
    "#### We observe that the count for Noun and Verb has improved drastically for the same set. Also the accuracy is around 94% which is quite good."
   ]
  },
  {
   "cell_type": "markdown",
   "metadata": {},
   "source": [
    "### __Conlusion__: We can conclude that technique 2 of modified viterbi is more reliable and can be used for good results."
   ]
  },
  {
   "cell_type": "code",
   "execution_count": null,
   "metadata": {},
   "outputs": [],
   "source": []
  }
 ],
 "metadata": {
  "kernelspec": {
   "display_name": "Python 3",
   "language": "python",
   "name": "python3"
  },
  "language_info": {
   "codemirror_mode": {
    "name": "ipython",
    "version": 3
   },
   "file_extension": ".py",
   "mimetype": "text/x-python",
   "name": "python",
   "nbconvert_exporter": "python",
   "pygments_lexer": "ipython3",
   "version": "3.8.5"
  }
 },
 "nbformat": 4,
 "nbformat_minor": 4
}
